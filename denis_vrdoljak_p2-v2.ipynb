{
 "metadata": {
  "kernelspec": {
   "display_name": "Python 2",
   "language": "python",
   "name": "python2"
  },
  "language_info": {
   "codemirror_mode": {
    "name": "ipython",
    "version": 2
   },
   "file_extension": ".py",
   "mimetype": "text/x-python",
   "name": "python",
   "nbconvert_exporter": "python",
   "pygments_lexer": "ipython2",
   "version": "2.7.6"
  },
  "name": "",
  "signature": "sha256:241069758c41e702335c78bc1813818c69712df24d583a77c774b9ac5ff3366a"
 },
 "nbformat": 3,
 "nbformat_minor": 0,
 "worksheets": [
  {
   "cells": [
    {
     "cell_type": "heading",
     "level": 1,
     "metadata": {},
     "source": [
      "Project 2: Topic Classification"
     ]
    },
    {
     "cell_type": "markdown",
     "metadata": {},
     "source": [
      "In this project, you'll work with text data from newsgroup postings on a variety of topics. You'll train classifiers to distinguish between the topics based on the text of the posts. Whereas with digit classification, the input is relatively dense: a 28x28 matrix of pixels, many of which are non-zero, here we'll represent each document with a \"bag-of-words\" model. As you'll see, this makes the feature representation quite sparse -- only a few words of the total vocabulary are active in any given document. The bag-of-words assumption here is that the label depends only on the words; their order is not important.\n",
      "\n",
      "The SK-learn documentation on feature extraction will prove useful:\n",
      "http://scikit-learn.org/stable/modules/feature_extraction.html\n",
      "\n",
      "Each problem can be addressed succinctly with the included packages -- please don't add any more. Grading will be based on writing clean, commented code, along with a few short answers.\n",
      "\n",
      "As always, you're welcome to work on the project in groups and discuss ideas on the course wall, but please prepare your own write-up and write your own code."
     ]
    },
    {
     "cell_type": "code",
     "collapsed": false,
     "input": [
      "# This tells matplotlib not to try opening a new window for each plot.\n",
      "%matplotlib inline\n",
      "\n",
      "# General libraries.\n",
      "import re\n",
      "import numpy as np\n",
      "import matplotlib.pyplot as plt\n",
      "\n",
      "# SK-learn libraries for learning.\n",
      "from sklearn.pipeline import Pipeline\n",
      "from sklearn.neighbors import KNeighborsClassifier\n",
      "from sklearn.linear_model import LogisticRegression\n",
      "from sklearn.naive_bayes import BernoulliNB\n",
      "from sklearn.naive_bayes import MultinomialNB\n",
      "from sklearn.grid_search import GridSearchCV\n",
      "\n",
      "# SK-learn libraries for evaluation.\n",
      "from sklearn.metrics import confusion_matrix\n",
      "from sklearn import metrics\n",
      "from sklearn.metrics import classification_report\n",
      "\n",
      "# SK-learn library for importing the newsgroup data.\n",
      "from sklearn.datasets import fetch_20newsgroups\n",
      "\n",
      "# SK-learn libraries for feature extraction from text.\n",
      "from sklearn.feature_extraction.text import *"
     ],
     "language": "python",
     "metadata": {},
     "outputs": [],
     "prompt_number": 2
    },
    {
     "cell_type": "markdown",
     "metadata": {},
     "source": [
      "Load the data, stripping out metadata so that we learn classifiers that only use textual features. By default, newsgroups data is split into train and test sets. We further split the test so we have a dev set. Note that we specify 4 categories to use for this project. If you remove the categories argument from the fetch function, you'll get all 20 categories."
     ]
    },
    {
     "cell_type": "code",
     "collapsed": false,
     "input": [
      "categories = ['alt.atheism', 'talk.religion.misc', 'comp.graphics', 'sci.space']\n",
      "newsgroups_train = fetch_20newsgroups(subset='train',\n",
      "                                      remove=('headers', 'footers', 'quotes'),\n",
      "                                      categories=categories)\n",
      "newsgroups_test = fetch_20newsgroups(subset='test',\n",
      "                                     remove=('headers', 'footers', 'quotes'),\n",
      "                                     categories=categories)\n",
      "\n",
      "num_test = len(newsgroups_test.target)\n",
      "test_data, test_labels = newsgroups_test.data[num_test/2:], newsgroups_test.target[num_test/2:]\n",
      "dev_data, dev_labels = newsgroups_test.data[:num_test/2], newsgroups_test.target[:num_test/2]\n",
      "train_data, train_labels = newsgroups_train.data, newsgroups_train.target\n",
      "\n",
      "print 'training label shape:', train_labels.shape\n",
      "print 'test label shape:', test_labels.shape\n",
      "print 'dev label shape:', dev_labels.shape\n",
      "print 'labels names:', newsgroups_train.target_names"
     ],
     "language": "python",
     "metadata": {},
     "outputs": [
      {
       "output_type": "stream",
       "stream": "stdout",
       "text": [
        "training label shape: (2034,)\n",
        "test label shape: (677,)\n",
        "dev label shape: (676,)\n",
        "labels names: ['alt.atheism', 'comp.graphics', 'sci.space', 'talk.religion.misc']\n"
       ]
      }
     ],
     "prompt_number": 3
    },
    {
     "cell_type": "markdown",
     "metadata": {},
     "source": [
      "(1) For each of the first 5 training examples, print the text of the message along with the label.\n",
      "\n",
      "[2 pts]"
     ]
    },
    {
     "cell_type": "code",
     "collapsed": false,
     "input": [
      "def P1(num_examples=5):\n",
      "### STUDENT START ###\n",
      "    for i in range(num_examples):\n",
      "        print \"Label:\",newsgroups_train.target_names[train_labels[i]], \"\\nText:\"\n",
      "        print train_data[i]\n",
      "        print \"\\n\\n<><><><><><><><><><><><><><><><><><><><>\"\n",
      "### STUDENT END ###\n",
      "P1(5)"
     ],
     "language": "python",
     "metadata": {},
     "outputs": [
      {
       "output_type": "stream",
       "stream": "stdout",
       "text": [
        "Label: comp.graphics \n",
        "Text:\n",
        "Hi,\n",
        "\n",
        "I've noticed that if you only save a model (with all your mapping planes\n",
        "positioned carefully) to a .3DS file that when you reload it after restarting\n",
        "3DS, they are given a default position and orientation.  But if you save\n",
        "to a .PRJ file their positions/orientation are preserved.  Does anyone\n",
        "know why this information is not stored in the .3DS file?  Nothing is\n",
        "explicitly said in the manual about saving texture rules in the .PRJ file. \n",
        "I'd like to be able to read the texture rule information, does anyone have \n",
        "the format for the .PRJ file?\n",
        "\n",
        "Is the .CEL file format available from somewhere?\n",
        "\n",
        "Rych\n",
        "\n",
        "\n",
        "<><><><><><><><><><><><><><><><><><><><>\n",
        "Label: talk.religion.misc \n",
        "Text:\n",
        "\n",
        "\n",
        "Seems to be, barring evidence to the contrary, that Koresh was simply\n",
        "another deranged fanatic who thought it neccessary to take a whole bunch of\n",
        "folks with him, children and all, to satisfy his delusional mania. Jim\n",
        "Jones, circa 1993.\n",
        "\n",
        "\n",
        "Nope - fruitcakes like Koresh have been demonstrating such evil corruption\n",
        "for centuries.\n",
        "\n",
        "\n",
        "<><><><><><><><><><><><><><><><><><><><>\n",
        "Label: sci.space \n",
        "Text:\n",
        "\n",
        " >In article <1993Apr19.020359.26996@sq.sq.com>, msb@sq.sq.com (Mark Brader) \n",
        "\n",
        "MB>                                                             So the\n",
        "MB> 1970 figure seems unlikely to actually be anything but a perijove.\n",
        "\n",
        "JG>Sorry, _perijoves_...I'm not used to talking this language.\n",
        "\n",
        "Couldn't we just say periapsis or apoapsis?\n",
        "\n",
        " \n",
        "\n",
        "\n",
        "<><><><><><><><><><><><><><><><><><><><>\n",
        "Label: alt.atheism \n",
        "Text:\n",
        "I have a request for those who would like to see Charley Wingate\n",
        "respond to the \"Charley Challenges\" (and judging from my e-mail, there\n",
        "appear to be quite a few of you.)  \n",
        "\n",
        "It is clear that Mr. Wingate intends to continue to post tangential or\n",
        "unrelated articles while ingoring the Challenges themselves.  Between\n",
        "the last two re-postings of the Challenges, I noted perhaps a dozen or\n",
        "more posts by Mr. Wingate, none of which answered a single Challenge.  \n",
        "\n",
        "It seems unmistakable to me that Mr. Wingate hopes that the questions\n",
        "will just go away, and he is doing his level best to change the\n",
        "subject.  Given that this seems a rather common net.theist tactic, I\n",
        "would like to suggest that we impress upon him our desire for answers,\n",
        "in the following manner:\n",
        "\n",
        "1. Ignore any future articles by Mr. Wingate that do not address the\n",
        "Challenges, until he answers them or explictly announces that he\n",
        "refuses to do so.\n",
        "\n",
        "--or--\n",
        "\n",
        "2. If you must respond to one of his articles, include within it\n",
        "something similar to the following:\n",
        "\n",
        "    \"Please answer the questions posed to you in the Charley Challenges.\"\n",
        "\n",
        "Really, I'm not looking to humiliate anyone here, I just want some\n",
        "honest answers.  You wouldn't think that honesty would be too much to\n",
        "ask from a devout Christian, would you?  \n",
        "\n",
        "Nevermind, that was a rhetorical question.\n",
        "\n",
        "\n",
        "<><><><><><><><><><><><><><><><><><><><>\n",
        "Label: sci.space \n",
        "Text:\n",
        "AW&ST  had a brief blurb on a Manned Lunar Exploration confernce\n",
        "May 7th  at Crystal City Virginia, under the auspices of AIAA.\n",
        "\n",
        "Does anyone know more about this?  How much, to attend????\n",
        "\n",
        "Anyone want to go?\n",
        "\n",
        "\n",
        "<><><><><><><><><><><><><><><><><><><><>\n"
       ]
      }
     ],
     "prompt_number": 23
    },
    {
     "cell_type": "markdown",
     "metadata": {},
     "source": [
      "(2) Use CountVectorizer to turn the raw training text into feature vectors. You should use the fit_transform function, which makes 2 passes through the data: first it computes the vocabulary (\"fit\"), second it converts the raw text into feature vectors using the vocabulary (\"transform\").\n",
      "\n",
      "The vectorizer has a lot of options. To get familiar with some of them, write code to answer these questions:\n",
      "\n",
      "a. The output of the transform (also of fit_transform) is a sparse matrix: http://docs.scipy.org/doc/scipy-0.14.0/reference/generated/scipy.sparse.csr_matrix.html. What is the size of the vocabulary? What is the average number of non-zero features per example? What fraction of the entries in the matrix are non-zero? Hint: use \"nnz\" and \"shape\" attributes.\n",
      "\n",
      "b. What are the 0th and last feature strings (in alphabetical order)? Hint: use the vectorizer's get_feature_names function.\n",
      "\n",
      "c. Specify your own vocabulary with 4 words: [\"atheism\", \"graphics\", \"space\", \"religion\"]. Confirm the training vectors are appropriately shaped. Now what's the average number of non-zero features per example?\n",
      "\n",
      "d. Instead of extracting unigram word features, use \"analyzer\" and \"ngram_range\" to extract bigram and trigram character features. What size vocabulary does this yield?\n",
      "\n",
      "e. Use the \"min_df\" argument to prune words that appear in fewer than 10 documents. What size vocabulary does this yield?\n",
      "\n",
      "f. Using the standard CountVectorizer, what fraction of the words in the dev data are missing from the vocabulary? Hint: build a vocabulary for both train and dev and look at the size of the difference.\n",
      "\n",
      "[6 pts]"
     ]
    },
    {
     "cell_type": "code",
     "collapsed": false,
     "input": [
      "def P2():\n",
      "### STUDENT START ###\n",
      "    cv = CountVectorizer()\n",
      "    count = cv.fit_transform(train_data)\n",
      "    vocab = cv.vocabulary_\n",
      "    shape = count.get_shape()\n",
      "    shape = float(shape[0]),float(shape[1])\n",
      "    print \"A: Dictionary size:\",shape[1]\n",
      "    print \"A: Avg non-zero:\",(count.getnnz()*1.)/shape[0]\n",
      "    print \"A: Fraction non-zero:\",(count.getnnz()*1.)/shape[0]/shape[1]\n",
      "    print \"\"\n",
      "    print \"B: 0th feature:\", cv.get_feature_names()[0]\n",
      "    print \"B: last feature:\", cv.get_feature_names()[-1]\n",
      "    \n",
      "    myvocab = [\"atheism\", \"graphics\", \"space\", \"religion\"]\n",
      "    newcv = CountVectorizer(vocabulary=myvocab)\n",
      "    newcount = newcv.fit_transform(train_data)\n",
      "    newshape = newcount.get_shape()\n",
      "    newshape = float(newshape[0]),float(newshape[1])\n",
      "    print \"\"\n",
      "    print \"C: new shape:\", newshape\n",
      "    print \"C: Avg non-zero:\",(newcount.getnnz()*1.)/newshape[0]\n",
      "    \n",
      "    ngramvc = CountVectorizer(ngram_range=(2,3), analyzer=\"char\")\n",
      "    ngramcount = ngramvc.fit_transform(train_data)\n",
      "    print \"D: (2/3)-gram vocab size:\", ngramcount.get_shape()[1]\n",
      "    \n",
      "    prunedvc = CountVectorizer(min_df = 10/shape[0])\n",
      "    prunedcount = prunedvc.fit_transform(train_data)\n",
      "    print \"E: Vocab size with pruning:\", prunedcount.get_shape()[1]\n",
      "    \n",
      "    devcount = cv.fit_transform(dev_data)\n",
      "    \n",
      "    devvocab = cv.vocabulary_\n",
      "    missingwords = 0\n",
      "    for word in devvocab.keys():\n",
      "        if word not in vocab.keys():\n",
      "            missingwords +=1.\n",
      "    print \"E: Missing words:\", missingwords\n",
      "    print \"E: Missing words (ratio):\", missingwords/devcount.get_shape()[1]\n",
      "    \n",
      "    ### STUDENT END ###\n",
      "P2()"
     ],
     "language": "python",
     "metadata": {},
     "outputs": [
      {
       "output_type": "stream",
       "stream": "stdout",
       "text": [
        "A: Dictionary size: 26879.0\n",
        "A: Avg non-zero: 96.7059980334\n",
        "A: Fraction non-zero: 0.00359782722696\n",
        "\n",
        "B: 0th feature: 00\n",
        "B: last feature: "
       ]
      },
      {
       "output_type": "stream",
       "stream": "stdout",
       "text": [
        "zyxel\n"
       ]
      },
      {
       "output_type": "stream",
       "stream": "stdout",
       "text": [
        "\n",
        "C: new shape: (2034.0, 4.0)\n",
        "C: Avg non-zero: 0.268436578171\n",
        "D: (2/3)-gram vocab size:"
       ]
      },
      {
       "output_type": "stream",
       "stream": "stdout",
       "text": [
        " 35478\n",
        "E: Vocab size with pruning:"
       ]
      },
      {
       "output_type": "stream",
       "stream": "stdout",
       "text": [
        " 3064\n",
        "E: Missing words:"
       ]
      },
      {
       "output_type": "stream",
       "stream": "stdout",
       "text": [
        " 4027.0\n",
        "E: Missing words (ratio): 0.247876400345\n"
       ]
      }
     ],
     "prompt_number": 7
    },
    {
     "cell_type": "markdown",
     "metadata": {},
     "source": [
      "(3) Use the default CountVectorizer options and report the f1 score (use metrics.f1_score) for a k nearest neighbors classifier; find the optimal value for k. Also fit a Multinomial Naive Bayes model and find the optimal value for alpha. Finally, fit a logistic regression model and find the optimal value for the regularization strength C using l2 regularization. A few questions:\n",
      "\n",
      "a. Why doesn't nearest neighbors work well for this problem?\n",
      "\n",
      "b. Any ideas why logistic regression doesn't work as well as Naive Bayes?\n",
      "\n",
      "c. Logistic regression estimates a weight vector for each class, which you can access with the coef\\_ attribute. Output the sum of the squared weight values for each class for each setting of the C parameter. Briefly explain the relationship between the sum and the value of C.\n",
      "\n",
      "[4 pts]"
     ]
    },
    {
     "cell_type": "code",
     "collapsed": false,
     "input": [
      "def P3():\n",
      "### STUDENT START ###\n",
      "\n",
      "    cv = CountVectorizer()\n",
      "    count = cv.fit_transform(train_data)\n",
      "    print \"init load\"\n",
      "    \n",
      "    #KNN\n",
      "    kvals = list(range(1,25))\n",
      "    knn = KNeighborsClassifier(weights='distance')\n",
      "    gridsearch = GridSearchCV(knn, {'n_neighbors': kvals})\n",
      "    \n",
      "    #use grid search to find best K\n",
      "    gridsearch.fit(count, train_labels)\n",
      "    bestk = gridsearch.best_params_.values()[0]\n",
      "    print \"Best k value:\", bestk\n",
      "    \n",
      "    #calculate F score\n",
      "    knn = KNeighborsClassifier(n_neighbors = bestk, weights='distance')\n",
      "    knn.fit(count, train_labels)\n",
      "    \n",
      "    devcount = cv.transform(dev_data)\n",
      "    predictions = knn.predict(devcount)\n",
      "    fscore = metrics.f1_score(dev_labels, predictions)\n",
      "    print \"KNN F-score:\",fscore\n",
      "    \n",
      "    \n",
      "    #NB\n",
      "    nb = MultinomialNB(class_prior=None, fit_prior=True)\n",
      "    alphas = map(lambda x: x/10.0, range(1,25))\n",
      "    nbgs = GridSearchCV(nb, {'alpha': alphas})\n",
      "    \n",
      "    #use grid search to find best alpha\n",
      "    nbgs.fit(count, train_labels)\n",
      "    bestalpha = nbgs.best_params_.values()[0]\n",
      "    print \"Best alpha:\", bestalpha\n",
      "    \n",
      "    #calculate F score\n",
      "    nb = MultinomialNB(class_prior=None, fit_prior=True, alpha=bestalpha)\n",
      "    nb.fit(count, train_labels)\n",
      "    devcount = cv.transform(dev_data)\n",
      "    predictions = nb.predict(devcount)\n",
      "    fscore = metrics.f1_score(dev_labels, predictions)\n",
      "    print \"NB F-score:\",fscore\n",
      "    \n",
      "    #Logistic Reg\n",
      "    cvals = map(lambda x: x/10.0, range(1,25))\n",
      "    logreg = LogisticRegression(penalty='l2')\n",
      "    logreggs = GridSearchCV(logreg, {'C': cvals})\n",
      "    #grid search for best C\n",
      "    logreggs.fit(count, train_labels)\n",
      "    bestc = logreggs.best_params_.values()[0]\n",
      "    print \"Best C value:\",bestc\n",
      "    \n",
      "    #calc F score\n",
      "    logreg = LogisticRegression(penalty='l2', C=bestc)\n",
      "    logreg.fit(count, train_labels)\n",
      "    devcount = cv.transform(dev_data)\n",
      "    predictions = logreg.predict(devcount)\n",
      "    fscore = metrics.f1_score(dev_labels, predictions)\n",
      "    print \"Logistic Regression F-score:\",fscore\n",
      "    \n",
      "    #list out squared weights for coeffs at each c-val\n",
      "    for c in cvals:\n",
      "        logreg = LogisticRegression(C=c, penalty='l2')\n",
      "        logreg_cv = CountVectorizer()\n",
      "        logreg_count = logreg_cv.fit_transform(train_data)\n",
      "        logreg.fit(logreg_count, train_labels)\n",
      "        weight = 0\n",
      "        coeffs =  logreg.coef_\n",
      "        for coeff in coeffs:\n",
      "            for x in coeff:\n",
      "                weight += x*x\n",
      "        print \"C:\",c,\"Sqr Weight:\",weight\n",
      "### STUDENT END ###\n",
      "\n",
      "P3()"
     ],
     "language": "python",
     "metadata": {},
     "outputs": [
      {
       "output_type": "stream",
       "stream": "stdout",
       "text": [
        "init load\n",
        "Best k value:"
       ]
      },
      {
       "output_type": "stream",
       "stream": "stdout",
       "text": [
        " 19\n",
        "KNN F-score:"
       ]
      },
      {
       "output_type": "stream",
       "stream": "stdout",
       "text": [
        " 0.449063715448\n",
        "Best alpha:"
       ]
      },
      {
       "output_type": "stream",
       "stream": "stderr",
       "text": [
        "/Users/denisvrdoljak/Library/Enthought/Canopy_64bit/User/lib/python2.7/site-packages/sklearn/metrics/classification.py:676: DeprecationWarning: The default `weighted` averaging is deprecated, and from version 0.18, use of precision, recall or F-score with multiclass or multilabel data or pos_label=None will result in an exception. Please set an explicit value for `average`, one of (None, 'micro', 'macro', 'weighted', 'samples'). In cross validation use, for instance, scoring=\"f1_weighted\" instead of scoring=\"f1\".\n",
        "  sample_weight=sample_weight)\n",
        "/Users/denisvrdoljak/Library/Enthought/Canopy_64bit/User/lib/python2.7/site-packages/sklearn/metrics/classification.py:676: DeprecationWarning: The default `weighted` averaging is deprecated, and from version 0.18, use of precision, recall or F-score with multiclass or multilabel data or pos_label=None will result in an exception. Please set an explicit value for `average`, one of (None, 'micro', 'macro', 'weighted', 'samples'). In cross validation use, for instance, scoring=\"f1_weighted\" instead of scoring=\"f1\".\n",
        "  sample_weight=sample_weight)\n"
       ]
      },
      {
       "output_type": "stream",
       "stream": "stdout",
       "text": [
        " 0.1\n",
        "NB F-score:"
       ]
      },
      {
       "output_type": "stream",
       "stream": "stdout",
       "text": [
        " 0.79030523851\n",
        "Best C value:"
       ]
      },
      {
       "output_type": "stream",
       "stream": "stdout",
       "text": [
        " 0.2\n",
        "Logistic Regression F-score:"
       ]
      },
      {
       "output_type": "stream",
       "stream": "stdout",
       "text": [
        " 0.705873369398\n",
        "C:"
       ]
      },
      {
       "output_type": "stream",
       "stream": "stdout",
       "text": [
        " 0.1 Sqr Weight: 102.264636687\n",
        "C:"
       ]
      },
      {
       "output_type": "stream",
       "stream": "stdout",
       "text": [
        " 0.2 Sqr Weight: 184.482578892\n",
        "C:"
       ]
      },
      {
       "output_type": "stream",
       "stream": "stdout",
       "text": [
        " 0.3 Sqr Weight: 254.848512454\n",
        "C:"
       ]
      },
      {
       "output_type": "stream",
       "stream": "stdout",
       "text": [
        " 0.4 Sqr Weight: 317.166203924\n",
        "C:"
       ]
      },
      {
       "output_type": "stream",
       "stream": "stdout",
       "text": [
        " 0.5 Sqr Weight: 373.728813821\n",
        "C:"
       ]
      },
      {
       "output_type": "stream",
       "stream": "stdout",
       "text": [
        " 0.6 Sqr Weight: 425.682779611\n",
        "C:"
       ]
      },
      {
       "output_type": "stream",
       "stream": "stdout",
       "text": [
        " 0.7 Sqr Weight: 473.901006984\n",
        "C:"
       ]
      },
      {
       "output_type": "stream",
       "stream": "stdout",
       "text": [
        " 0.8 Sqr Weight: 518.955925906\n",
        "C:"
       ]
      },
      {
       "output_type": "stream",
       "stream": "stdout",
       "text": [
        " 0.9 Sqr Weight: 561.263772571\n",
        "C:"
       ]
      },
      {
       "output_type": "stream",
       "stream": "stdout",
       "text": [
        " 1.0 Sqr Weight: 601.613082409\n",
        "C:"
       ]
      },
      {
       "output_type": "stream",
       "stream": "stdout",
       "text": [
        " 1.1 Sqr Weight: 639.82451172\n",
        "C:"
       ]
      },
      {
       "output_type": "stream",
       "stream": "stdout",
       "text": [
        " 1.2 Sqr Weight: 676.22083466\n",
        "C:"
       ]
      },
      {
       "output_type": "stream",
       "stream": "stdout",
       "text": [
        " 1.3 Sqr Weight: 711.27535303\n",
        "C:"
       ]
      },
      {
       "output_type": "stream",
       "stream": "stdout",
       "text": [
        " 1.4 Sqr Weight: 744.321940391\n",
        "C:"
       ]
      },
      {
       "output_type": "stream",
       "stream": "stdout",
       "text": [
        " 1.5 Sqr Weight: 776.692100968\n",
        "C:"
       ]
      },
      {
       "output_type": "stream",
       "stream": "stdout",
       "text": [
        " 1.6 Sqr Weight: 807.967240403\n",
        "C:"
       ]
      },
      {
       "output_type": "stream",
       "stream": "stdout",
       "text": [
        " 1.7 Sqr Weight: 837.88778218\n",
        "C:"
       ]
      },
      {
       "output_type": "stream",
       "stream": "stdout",
       "text": [
        " 1.8 Sqr Weight: 866.661959882\n",
        "C:"
       ]
      },
      {
       "output_type": "stream",
       "stream": "stdout",
       "text": [
        " 1.9 Sqr Weight: 894.617928925\n",
        "C:"
       ]
      },
      {
       "output_type": "stream",
       "stream": "stdout",
       "text": [
        " 2.0 Sqr Weight: 921.619160748\n",
        "C:"
       ]
      },
      {
       "output_type": "stream",
       "stream": "stdout",
       "text": [
        " 2.1 Sqr Weight: 948.376593563\n",
        "C:"
       ]
      },
      {
       "output_type": "stream",
       "stream": "stdout",
       "text": [
        " 2.2 Sqr Weight: 974.384584153\n",
        "C:"
       ]
      },
      {
       "output_type": "stream",
       "stream": "stdout",
       "text": [
        " 2.3 Sqr Weight: 999.175981178\n",
        "C:"
       ]
      },
      {
       "output_type": "stream",
       "stream": "stdout",
       "text": [
        " 2.4 Sqr Weight: 1023.56740139\n"
       ]
      },
      {
       "output_type": "stream",
       "stream": "stderr",
       "text": [
        "/Users/denisvrdoljak/Library/Enthought/Canopy_64bit/User/lib/python2.7/site-packages/sklearn/metrics/classification.py:676: DeprecationWarning: The default `weighted` averaging is deprecated, and from version 0.18, use of precision, recall or F-score with multiclass or multilabel data or pos_label=None will result in an exception. Please set an explicit value for `average`, one of (None, 'micro', 'macro', 'weighted', 'samples'). In cross validation use, for instance, scoring=\"f1_weighted\" instead of scoring=\"f1\".\n",
        "  sample_weight=sample_weight)\n"
       ]
      }
     ],
     "prompt_number": 8
    },
    {
     "cell_type": "markdown",
     "metadata": {},
     "source": [
      "ANSWER: <A> KNN Doesn't work well because there are too many features. <B> Logistic Regression is not ideal because N(features) is on the order of N(samples), so overfitting happens, and the model does not predict well (aka, overfits and doesn't apply well to \"new\" data), unlike NB. <C> The higher the c value, higher the avg square weight Higher c's allow larger weights, so the overall (sum of squares) increases"
     ]
    },
    {
     "cell_type": "markdown",
     "metadata": {},
     "source": [
      "(4) Train a logistic regression model. Find the 5 features with the largest weights for each label -- 20 features in total. Create a table with 20 rows and 4 columns that shows the weight for each of these features for each of the labels. Create the table again with bigram features. Any surprising features in this table?\n",
      "\n",
      "[5 pts]"
     ]
    },
    {
     "cell_type": "code",
     "collapsed": false,
     "input": [
      "def P4():\n",
      "### STUDENT START ###\n",
      "    cv = CountVectorizer()\n",
      "    count = cv.fit_transform(train_data)\n",
      "    \n",
      "    #set up classifier\n",
      "    logreg = LogisticRegression()\n",
      "    logreg.fit(count, train_labels)\n",
      "    coeffs = logreg.coef_\n",
      "    featurenames = cv.get_feature_names()\n",
      "    \n",
      "    #make list (of lists) of max weights' indexes\n",
      "    maxweights = list()\n",
      "    for i,weights in enumerate(coeffs):\n",
      "        weights = array(list(weights))\n",
      "        maxweights.append(list())\n",
      "        for j in range(5):\n",
      "            maxindex = weights.argmax()\n",
      "            #print j+1, maxindex, featurenames[maxindex]\n",
      "            maxweights[i].append(maxindex)\n",
      "            weights[maxindex]=-99\n",
      "    \n",
      "    #print and format\n",
      "    print \"Single word weights, max of categories:\"\n",
      "    printset = list()\n",
      "    for weights in maxweights:\n",
      "        for i in weights:\n",
      "            printline = list()\n",
      "            printline.append(featurenames[i])\n",
      "            for coeff in coeffs:\n",
      "                printline.append(str(coeff[i])[:5])\n",
      "            printset.append(printline)\n",
      "    for row in printset:\n",
      "        print (\"{: >10} {: >10} {: >10} {: >10} {: >10}\".format(*row))\n",
      "    \n",
      "    #bigrams version\n",
      "    #setup\n",
      "    ngramvc = CountVectorizer(ngram_range=(2,2))\n",
      "    ngramcount = ngramvc.fit_transform(train_data)\n",
      "    \n",
      "    ngramlogreg = LogisticRegression()\n",
      "    ngramlogreg.fit(ngramcount, train_labels)\n",
      "    coeffs = ngramlogreg.coef_\n",
      "    featurenames = ngramvc.get_feature_names()\n",
      "    \n",
      "    #list indexes of maxes\n",
      "    maxweights = list()\n",
      "    for i,weights in enumerate(coeffs):\n",
      "        maxweights.append(list())\n",
      "        for j in range(5):\n",
      "            maxindex = weights.argmax()\n",
      "            weights = array(list(weights))\n",
      "            maxweights[i].append(maxindex)\n",
      "            weights[maxindex]=-99\n",
      "    \n",
      "    #print and format\n",
      "    print \"bi-gram weights, max of categories:\"\n",
      "    printset = list()\n",
      "    for weights in maxweights:\n",
      "        for i in weights:\n",
      "            printline = list()\n",
      "            printline.append(featurenames[i])\n",
      "            for coeff in coeffs:\n",
      "                printline.append(str(coeff[i])[:5])\n",
      "            printset.append(printline)\n",
      "    for row in printset:\n",
      "        print (\"{: >15} {: >10} {: >10} {: >10} {: >10}\".format(*row))\n",
      "### STUDENT END ###\n",
      "P4()"
     ],
     "language": "python",
     "metadata": {},
     "outputs": [
      {
       "output_type": "stream",
       "stream": "stdout",
       "text": [
        "Single word weights, max of categories:\n",
        "  deletion      1.125      -0.39      -0.42      -0.39\n",
        "  atheists      1.031      -0.09      -0.31      -0.83\n",
        "     bobby      0.989      -0.22      -0.34      -0.46\n",
        "  religion      0.953      -0.61      -0.79      -0.06\n",
        "   atheism      0.940      -0.41      -0.44      -0.43\n",
        "  graphics      -0.75      1.936      -1.33      -0.76\n",
        "     image      -0.58      1.346      -0.82      -0.46\n",
        "      file      -0.33      1.266      -0.80      -0.62\n",
        "        3d      -0.35      1.125      -0.70      -0.37\n",
        "  computer      0.143      0.977      -0.68      -0.48\n",
        "     space      -1.26      -1.31      2.162      -1.17\n",
        "     orbit      -0.41      -0.67      1.225      -0.62\n",
        "      nasa      -0.57      -0.48      1.011      -0.46\n",
        "    launch      -0.47      -0.46      0.936      -0.33\n",
        "spacecraft      -0.35      -0.39      0.920      -0.38\n",
        "christians      -0.74      -0.40      -0.52      1.147\n",
        " christian      -0.60      -0.41      -0.27      1.117\n",
        "     blood      -0.53      -0.10      -0.31      1.054\n",
        "       fbi      -0.30      -0.27      -0.44      0.912\n",
        "     order      -0.79      -0.07      -0.14      0.905\n",
        "bi-gram weights, max of categories:"
       ]
      },
      {
       "output_type": "stream",
       "stream": "stdout",
       "text": [
        "\n",
        "     claim that      0.771      -0.25      -0.35      -0.20\n",
        "       was just      0.677      -0.19      -0.19      -0.30\n",
        "    cheers kent      0.649      -0.88      -0.82      0.601\n",
        "        look up      0.633      -0.23      -0.19      -0.17\n",
        "        you are      0.569      -0.31      -0.57      0.000\n",
        "    looking for      -0.75      1.319      -0.61      -0.69\n",
        "  comp graphics      -0.37      1.037      -0.47      -0.39\n",
        "     in advance      -0.54      0.972      -0.53      -0.50\n",
        "       is there      -0.42      0.912      -0.56      -0.34\n",
        "      out there      -0.32      0.896      -0.57      -0.33\n",
        "      the space      -0.31      -0.64      1.030      -0.32\n",
        "       the moon      -0.40      -0.57      0.951      -0.24\n",
        "      sci space      -0.31      -0.38      0.738      -0.27\n",
        "       and such      -0.24      -0.39      0.688      -0.25\n",
        "sherzer methodology      -0.15      -0.22      0.675      -0.16\n",
        "   ignorance is      -0.22      -0.25      -0.21      0.745\n",
        "    such lunacy      -0.14      -0.21      -0.19      0.706\n",
        " compuserve com      -0.13      -0.21      -0.20      0.701\n",
        "        the fbi      -0.16      -0.26      -0.35      0.653\n",
        "    is strength      -0.17      -0.22      -0.19      0.647\n"
       ]
      }
     ],
     "prompt_number": 9
    },
    {
     "cell_type": "markdown",
     "metadata": {},
     "source": [
      "ANSWER: The single words make sense, with a couple of odd ones; but for the bi-grams, some seem off the wall, like \"and such\" or \"is there\" being a high classifier. Another weird one is \"compuserve com\", presumably \"compuserve.com\"being a high (and distinct) classifier for general religion talk."
     ]
    },
    {
     "cell_type": "markdown",
     "metadata": {},
     "source": [
      "(5) Try to improve the logistic regression classifier by passing a custom preprocessor to CountVectorizer. The preprocessing function runs on the raw text, before it is split into words by the tokenizer. Your preprocessor should try to normalize the input in various ways to improve generalization. For example, try lowercasing everything, replacing sequences of numbers with a single token, removing various other non-letter characters, and shortening long words. If you're not already familiar with regular expressions for manipulating strings, see https://docs.python.org/2/library/re.html, and re.sub() in particular. With your new preprocessor, how much did you reduce the size of the dictionary?\n",
      "\n",
      "For reference, I was able to improve dev F1 by 2 points.\n",
      "\n",
      "[4 pts]"
     ]
    },
    {
     "cell_type": "code",
     "collapsed": false,
     "input": [
      "def empty_preprocessor(s):\n",
      "    return s\n",
      "\n",
      "def better_preprocessor(s):\n",
      "### STUDENT START ###\n",
      "    s = re.sub('\\'', '', s)\n",
      "    s = re.sub(r'\\d+', ' ', s)\n",
      "    s = s.lower()\n",
      "    return s\n",
      "\n",
      "### STUDENT END ###\n",
      "\n",
      "def P5():\n",
      "### STUDENT START ###\n",
      "    for preproc in (empty_preprocessor,better_preprocessor):\n",
      "        cv = CountVectorizer(preprocessor = preproc)\n",
      "        count = cv.fit_transform(train_data)\n",
      "        print \"Size of Dictionary:\", count.get_shape()[1]\n",
      "        #set up classifier\n",
      "        logreg = LogisticRegression()\n",
      "        logreg.fit(count, train_labels)\n",
      "        \n",
      "        cvals = map(lambda x: x/10.0, range(1,25))\n",
      "        logreg = LogisticRegression(penalty='l2')\n",
      "        logreggs = GridSearchCV(logreg, {'C': cvals})\n",
      "        #grid search for best C\n",
      "        logreggs.fit(count, train_labels)\n",
      "        bestc = logreggs.best_params_.values()[0]\n",
      "        print \"Best C value:\",bestc\n",
      "\n",
      "        #calc F score\n",
      "        logreg = LogisticRegression(penalty='l2', C=bestc)\n",
      "        logreg.fit(count, train_labels)\n",
      "        devcount = cv.transform(dev_data)\n",
      "        predictions = logreg.predict(devcount)\n",
      "        fscore = metrics.f1_score(dev_labels, predictions)\n",
      "        print \"Logistic Regression F-score:\",fscore\n",
      "        \n",
      "    print \"Dictionary improved by 9k (from 33k to 24k)\"\n",
      "    print \"F-score improved by .68 points\"\n",
      "\n",
      "    \n",
      "### STUDENT END ###\n",
      "P5()"
     ],
     "language": "python",
     "metadata": {},
     "outputs": [
      {
       "output_type": "stream",
       "stream": "stdout",
       "text": [
        "Size of Dictionary: 33291\n",
        "Best C value:"
       ]
      },
      {
       "output_type": "stream",
       "stream": "stdout",
       "text": [
        " 0.8\n",
        "Logistic Regression F-score:"
       ]
      },
      {
       "output_type": "stream",
       "stream": "stdout",
       "text": [
        " 0.703800047054\n",
        "Size of Dictionary:"
       ]
      },
      {
       "output_type": "stream",
       "stream": "stdout",
       "text": [
        " 24755\n",
        "Best C value:"
       ]
      },
      {
       "output_type": "stream",
       "stream": "stderr",
       "text": [
        "/Users/denisvrdoljak/Library/Enthought/Canopy_64bit/User/lib/python2.7/site-packages/sklearn/metrics/classification.py:676: DeprecationWarning: The default `weighted` averaging is deprecated, and from version 0.18, use of precision, recall or F-score with multiclass or multilabel data or pos_label=None will result in an exception. Please set an explicit value for `average`, one of (None, 'micro', 'macro', 'weighted', 'samples'). In cross validation use, for instance, scoring=\"f1_weighted\" instead of scoring=\"f1\".\n",
        "  sample_weight=sample_weight)\n",
        "/Users/denisvrdoljak/Library/Enthought/Canopy_64bit/User/lib/python2.7/site-packages/sklearn/metrics/classification.py:676: DeprecationWarning: The default `weighted` averaging is deprecated, and from version 0.18, use of precision, recall or F-score with multiclass or multilabel data or pos_label=None will result in an exception. Please set an explicit value for `average`, one of (None, 'micro', 'macro', 'weighted', 'samples'). In cross validation use, for instance, scoring=\"f1_weighted\" instead of scoring=\"f1\".\n",
        "  sample_weight=sample_weight)\n"
       ]
      },
      {
       "output_type": "stream",
       "stream": "stdout",
       "text": [
        " 0.2\n",
        "Logistic Regression F-score:"
       ]
      },
      {
       "output_type": "stream",
       "stream": "stdout",
       "text": [
        " 0.710574700938\n",
        "Dictionary improved by 9k (from 33k to 24k)\n",
        "F-score improved by .68 points\n"
       ]
      }
     ],
     "prompt_number": 10
    },
    {
     "cell_type": "markdown",
     "metadata": {},
     "source": [
      "(6) The idea of regularization is to avoid learning very large weights (which are likely to fit the training data, but not generalize well) by adding a penalty to the total size of the learned weights. That is, logistic regression seeks the set of weights that minimizes errors in the training data AND has a small size. The default regularization, L2, computes this size as the sum of the squared weights (see P3, above). L1 regularization computes this size as the sum of the absolute values of the weights. The result is that whereas L2 regularization makes all the weights relatively small, L1 regularization drives lots of the weights to 0, effectively removing unimportant features.\n",
      "\n",
      "Train a logistic regression model using a \"l1\" penalty. Output the number of learned weights that are not equal to zero. How does this compare to the number of non-zero weights you get with \"l2\"? Now, reduce the size of the vocabulary by keeping only those features that have at least one non-zero weight and retrain a model using \"l2\".\n",
      "\n",
      "Make a plot showing accuracy of the re-trained model vs. the vocabulary size you get when pruning unused features by adjusting the C parameter.\n",
      "\n",
      "Note: The gradient descent code that trains the logistic regression model sometimes has trouble converging with extreme settings of the C parameter. Relax the convergence criteria by setting tol=.01 (the default is .0001).\n",
      "\n",
      "[4 pts]"
     ]
    },
    {
     "cell_type": "code",
     "collapsed": false,
     "input": [
      "def P6():\n",
      "    # Keep this random seed here to make comparison easier.\n",
      "    np.random.seed(0)\n",
      "\n",
      "    ### STUDENT START ###\n",
      "    print \"Note: scroll down for graphs. Accuracies vs. c-values (graph 2)\"\n",
      "    print \"gives a clearer picture than Accuracies vs. dictionary size (graph 1)\"\n",
      "    print \"stats on word counts printed for each c value at l1 & l2\"\n",
      "    \n",
      "    #cvals = map(lambda x: x/10.0, range(1,30))\n",
      "    #cvals.append(range(3,10))\n",
      "    #cvals.append(range(10,100,10))\n",
      "    #different sets of c-values\n",
      "    cvals = [.000001, .005, .01, .05, .1, .2, 1, 2, 5, 20,30,40,50,60, 100]\n",
      "    #cvals = np.linspace(0.001, 0.25, 50)\n",
      "    #set up lists\n",
      "    accuracies = list()\n",
      "    liblengths = list()\n",
      "    nextvocab = list()\n",
      "    cvalsplot = list()\n",
      "    \n",
      "    #loop through c values, l1, prune, l2, get accuracy\n",
      "    for c in cvals:\n",
      "        print \"c=\",c\n",
      "        for reglevel in (\"l1\",\"l2\"):\n",
      "            cv = CountVectorizer()\n",
      "            if reglevel == \"l2\":\n",
      "                cv.fit_transform(train_data)\n",
      "                l2vocablength = len(cv.vocabulary_.keys())\n",
      "                print \"Pre-pruned l2 vocab length:\",l2vocablength\n",
      "                \n",
      "                if len(nextvocab)>0:\n",
      "                    cv = CountVectorizer(vocabulary=nextvocab)\n",
      "                    cvalsplot.append(c)\n",
      "                else:\n",
      "                    continue\n",
      "\n",
      "            else:\n",
      "                cv = CountVectorizer()\n",
      "            count = cv.fit_transform(train_data)\n",
      "            #set up classifier\n",
      "            logreg = LogisticRegression(C=c,penalty=reglevel, tol = 0.01)\n",
      "            logreg.fit(count, train_labels)\n",
      "            coeffs = logreg.coef_\n",
      "            #write over old l2 list\n",
      "            nnz = set()\n",
      "            for coef in coeffs:\n",
      "                for i,x in enumerate(coef):\n",
      "                    if x!=0:\n",
      "                        nnz.add(i)\n",
      "            print \"Non-zero\",reglevel,\"features:\",len(nnz)\n",
      "            vocab = [cv.vocabulary_.keys()[i] for i in nnz]\n",
      "            if reglevel=='l1':\n",
      "                nextvocab = list(vocab)\n",
      "            newdevcount = cv.transform(dev_data)\n",
      "            print \"Accuracy @\", reglevel,\":\", logreg.score(newdevcount, dev_labels)\n",
      "            if reglevel == \"l2\":\n",
      "                acc = logreg.score(newdevcount, dev_labels)\n",
      "                accuracies.append(acc)\n",
      "                liblengths.append(len(nextvocab))\n",
      "                \n",
      "            print \"\"\n",
      "    print accuracies\n",
      "    print liblengths\n",
      "    for j in range(len(accuracies)):\n",
      "        print accuracies[j],\"@\",liblengths[j]\n",
      "        pass\n",
      "    print \"len cvals\",len(cvals)\n",
      "    print \"len accuracies\",len(accuracies)\n",
      "    plt.figure(figsize=(10, 10))\n",
      "    plt.plot(liblengths, accuracies, 'o')\n",
      "    plt.xlabel('Vocab Lengths')\n",
      "    plt.ylabel('Accuracies')\n",
      "    plt.axis([min(liblengths)*.9, max(liblengths)*1.1, min(accuracies)*.9, max(accuracies)*1.1])\n",
      "    \n",
      "    plt.figure(figsize=(10, 10))\n",
      "    plt.plot(cvalsplot, accuracies, 'o')\n",
      "    plt.xlabel('C Values')\n",
      "    plt.ylabel('Accuracies')\n",
      "    plt.axis([min(cvals)*.9, max(cvals)*1.1, min(accuracies)*.9, max(accuracies)*1.1])\n",
      "    \n",
      "\n",
      "\n",
      "\n",
      "    ### STUDENT END ###\n",
      "P6()"
     ],
     "language": "python",
     "metadata": {},
     "outputs": [
      {
       "output_type": "stream",
       "stream": "stdout",
       "text": [
        "Note: scroll down for graphs. Accuracies vs. c-values (graph 2)\n",
        "gives a clearer picture than Accuracies vs. dictionary size (graph 1)\n",
        "stats on word counts printed for each c value at l1 & l2\n",
        "c= 1e-06\n",
        "Non-zero"
       ]
      },
      {
       "output_type": "stream",
       "stream": "stdout",
       "text": [
        " l1 features: 0\n",
        "Accuracy @"
       ]
      },
      {
       "output_type": "stream",
       "stream": "stdout",
       "text": [
        " l1 : 0.244082840237\n",
        "\n",
        "Pre-pruned l2 vocab length:"
       ]
      },
      {
       "output_type": "stream",
       "stream": "stdout",
       "text": [
        " 26879\n",
        "c= 0.005\n",
        "Non-zero"
       ]
      },
      {
       "output_type": "stream",
       "stream": "stdout",
       "text": [
        " l1 features: 13\n",
        "Accuracy @"
       ]
      },
      {
       "output_type": "stream",
       "stream": "stdout",
       "text": [
        " l1 : 0.442307692308\n",
        "\n",
        "Pre-pruned l2 vocab length:"
       ]
      },
      {
       "output_type": "stream",
       "stream": "stdout",
       "text": [
        " 26879\n",
        "Non-zero"
       ]
      },
      {
       "output_type": "stream",
       "stream": "stdout",
       "text": [
        " l2 features: 13\n",
        "Accuracy @"
       ]
      },
      {
       "output_type": "stream",
       "stream": "stdout",
       "text": [
        " l2 : 0.295857988166\n",
        "\n",
        "c= 0.01\n",
        "Non-zero"
       ]
      },
      {
       "output_type": "stream",
       "stream": "stdout",
       "text": [
        " l1 features: 17\n",
        "Accuracy @"
       ]
      },
      {
       "output_type": "stream",
       "stream": "stdout",
       "text": [
        " l1 : 0.463017751479\n",
        "\n",
        "Pre-pruned l2 vocab length:"
       ]
      },
      {
       "output_type": "stream",
       "stream": "stdout",
       "text": [
        " 26879\n",
        "Non-zero"
       ]
      },
      {
       "output_type": "stream",
       "stream": "stdout",
       "text": [
        " l2 features: 17\n",
        "Accuracy @"
       ]
      },
      {
       "output_type": "stream",
       "stream": "stdout",
       "text": [
        " l2 : 0.295857988166\n",
        "\n",
        "c= 0.05\n",
        "Non-zero"
       ]
      },
      {
       "output_type": "stream",
       "stream": "stdout",
       "text": [
        " l1 features: 121\n",
        "Accuracy @"
       ]
      },
      {
       "output_type": "stream",
       "stream": "stdout",
       "text": [
        " l1 : 0.599112426036\n",
        "\n",
        "Pre-pruned l2 vocab length:"
       ]
      },
      {
       "output_type": "stream",
       "stream": "stdout",
       "text": [
        " 26879\n",
        "Non-zero"
       ]
      },
      {
       "output_type": "stream",
       "stream": "stdout",
       "text": [
        " l2 features: 121\n",
        "Accuracy @"
       ]
      },
      {
       "output_type": "stream",
       "stream": "stdout",
       "text": [
        " l2 : 0.294378698225\n",
        "\n",
        "c= 0.1\n",
        "Non-zero"
       ]
      },
      {
       "output_type": "stream",
       "stream": "stdout",
       "text": [
        " l1 features: 213\n",
        "Accuracy @"
       ]
      },
      {
       "output_type": "stream",
       "stream": "stdout",
       "text": [
        " l1 : 0.664201183432\n",
        "\n",
        "Pre-pruned l2 vocab length:"
       ]
      },
      {
       "output_type": "stream",
       "stream": "stdout",
       "text": [
        " 26879\n",
        "Non-zero"
       ]
      },
      {
       "output_type": "stream",
       "stream": "stdout",
       "text": [
        " l2 features: 213\n",
        "Accuracy @"
       ]
      },
      {
       "output_type": "stream",
       "stream": "stdout",
       "text": [
        " l2 : 0.35798816568\n",
        "\n",
        "c= 0.2\n",
        "Non-zero"
       ]
      },
      {
       "output_type": "stream",
       "stream": "stdout",
       "text": [
        " l1 features: 366\n",
        "Accuracy @"
       ]
      },
      {
       "output_type": "stream",
       "stream": "stdout",
       "text": [
        " l1 : 0.701183431953\n",
        "\n",
        "Pre-pruned l2 vocab length:"
       ]
      },
      {
       "output_type": "stream",
       "stream": "stdout",
       "text": [
        " 26879\n",
        "Non-zero"
       ]
      },
      {
       "output_type": "stream",
       "stream": "stdout",
       "text": [
        " l2 features: 366\n",
        "Accuracy @"
       ]
      },
      {
       "output_type": "stream",
       "stream": "stdout",
       "text": [
        " l2 : 0.39349112426\n",
        "\n",
        "c= 1\n",
        "Non-zero"
       ]
      },
      {
       "output_type": "stream",
       "stream": "stdout",
       "text": [
        " l1 features: 1386\n",
        "Accuracy @"
       ]
      },
      {
       "output_type": "stream",
       "stream": "stdout",
       "text": [
        " l1 : 0.698224852071\n",
        "\n",
        "Pre-pruned l2 vocab length:"
       ]
      },
      {
       "output_type": "stream",
       "stream": "stdout",
       "text": [
        " 26879\n",
        "Non-zero"
       ]
      },
      {
       "output_type": "stream",
       "stream": "stdout",
       "text": [
        " l2 features: 1386\n",
        "Accuracy @"
       ]
      },
      {
       "output_type": "stream",
       "stream": "stdout",
       "text": [
        " l2 : 0.519230769231\n",
        "\n",
        "c= 2\n",
        "Non-zero"
       ]
      },
      {
       "output_type": "stream",
       "stream": "stdout",
       "text": [
        " l1 features: 1952\n",
        "Accuracy @"
       ]
      },
      {
       "output_type": "stream",
       "stream": "stdout",
       "text": [
        " l1 : 0.699704142012\n",
        "\n",
        "Pre-pruned l2 vocab length:"
       ]
      },
      {
       "output_type": "stream",
       "stream": "stdout",
       "text": [
        " 26879\n",
        "Non-zero"
       ]
      },
      {
       "output_type": "stream",
       "stream": "stdout",
       "text": [
        " l2 features: 1952\n",
        "Accuracy @"
       ]
      },
      {
       "output_type": "stream",
       "stream": "stdout",
       "text": [
        " l2 : 0.539940828402\n",
        "\n",
        "c= 5\n",
        "Non-zero"
       ]
      },
      {
       "output_type": "stream",
       "stream": "stdout",
       "text": [
        " l1 features: 1965\n",
        "Accuracy @"
       ]
      },
      {
       "output_type": "stream",
       "stream": "stdout",
       "text": [
        " l1 : 0.683431952663\n",
        "\n",
        "Pre-pruned l2 vocab length:"
       ]
      },
      {
       "output_type": "stream",
       "stream": "stdout",
       "text": [
        " 26879\n",
        "Non-zero"
       ]
      },
      {
       "output_type": "stream",
       "stream": "stdout",
       "text": [
        " l2 features: 1965\n",
        "Accuracy @"
       ]
      },
      {
       "output_type": "stream",
       "stream": "stdout",
       "text": [
        " l2 : 0.516272189349\n",
        "\n",
        "c= 20\n",
        "Non-zero"
       ]
      },
      {
       "output_type": "stream",
       "stream": "stdout",
       "text": [
        " l1 features: 4091\n",
        "Accuracy @"
       ]
      },
      {
       "output_type": "stream",
       "stream": "stdout",
       "text": [
        " l1 : 0.671597633136\n",
        "\n",
        "Pre-pruned l2 vocab length:"
       ]
      },
      {
       "output_type": "stream",
       "stream": "stdout",
       "text": [
        " 26879\n",
        "Non-zero"
       ]
      },
      {
       "output_type": "stream",
       "stream": "stdout",
       "text": [
        " l2 features: 4091\n",
        "Accuracy @"
       ]
      },
      {
       "output_type": "stream",
       "stream": "stdout",
       "text": [
        " l2 : 0.591715976331\n",
        "\n",
        "c= 30\n",
        "Non-zero"
       ]
      },
      {
       "output_type": "stream",
       "stream": "stdout",
       "text": [
        " l1 features: 4572\n",
        "Accuracy @"
       ]
      },
      {
       "output_type": "stream",
       "stream": "stdout",
       "text": [
        " l1 : 0.659763313609\n",
        "\n",
        "Pre-pruned l2 vocab length:"
       ]
      },
      {
       "output_type": "stream",
       "stream": "stdout",
       "text": [
        " 26879\n",
        "Non-zero"
       ]
      },
      {
       "output_type": "stream",
       "stream": "stdout",
       "text": [
        " l2 features: 4572\n",
        "Accuracy @"
       ]
      },
      {
       "output_type": "stream",
       "stream": "stdout",
       "text": [
        " l2 : 0.58875739645\n",
        "\n",
        "c= 40\n",
        "Non-zero"
       ]
      },
      {
       "output_type": "stream",
       "stream": "stdout",
       "text": [
        " l1 features: 5281\n",
        "Accuracy @"
       ]
      },
      {
       "output_type": "stream",
       "stream": "stdout",
       "text": [
        " l1 : 0.640532544379\n",
        "\n",
        "Pre-pruned l2 vocab length:"
       ]
      },
      {
       "output_type": "stream",
       "stream": "stdout",
       "text": [
        " 26879\n",
        "Non-zero"
       ]
      },
      {
       "output_type": "stream",
       "stream": "stdout",
       "text": [
        " l2 features: 5281\n",
        "Accuracy @"
       ]
      },
      {
       "output_type": "stream",
       "stream": "stdout",
       "text": [
        " l2 : 0.585798816568\n",
        "\n",
        "c= 50\n",
        "Non-zero"
       ]
      },
      {
       "output_type": "stream",
       "stream": "stdout",
       "text": [
        " l1 features: 5838\n",
        "Accuracy @"
       ]
      },
      {
       "output_type": "stream",
       "stream": "stdout",
       "text": [
        " l1 : 0.633136094675\n",
        "\n",
        "Pre-pruned l2 vocab length:"
       ]
      },
      {
       "output_type": "stream",
       "stream": "stdout",
       "text": [
        " 26879\n",
        "Non-zero"
       ]
      },
      {
       "output_type": "stream",
       "stream": "stdout",
       "text": [
        " l2 features: 5838\n",
        "Accuracy @"
       ]
      },
      {
       "output_type": "stream",
       "stream": "stdout",
       "text": [
        " l2 : 0.633136094675\n",
        "\n",
        "c= 60\n",
        "Non-zero"
       ]
      },
      {
       "output_type": "stream",
       "stream": "stdout",
       "text": [
        " l1 features: 6226\n",
        "Accuracy @"
       ]
      },
      {
       "output_type": "stream",
       "stream": "stdout",
       "text": [
        " l1 : 0.640532544379\n",
        "\n",
        "Pre-pruned l2 vocab length:"
       ]
      },
      {
       "output_type": "stream",
       "stream": "stdout",
       "text": [
        " 26879\n",
        "Non-zero"
       ]
      },
      {
       "output_type": "stream",
       "stream": "stdout",
       "text": [
        " l2 features: 6226\n",
        "Accuracy @"
       ]
      },
      {
       "output_type": "stream",
       "stream": "stdout",
       "text": [
        " l2 : 0.633136094675\n",
        "\n",
        "c= 100\n",
        "Non-zero"
       ]
      },
      {
       "output_type": "stream",
       "stream": "stdout",
       "text": [
        " l1 features: 7494\n",
        "Accuracy @"
       ]
      },
      {
       "output_type": "stream",
       "stream": "stdout",
       "text": [
        " l1 : 0.639053254438\n",
        "\n",
        "Pre-pruned l2 vocab length:"
       ]
      },
      {
       "output_type": "stream",
       "stream": "stdout",
       "text": [
        " 26879\n",
        "Non-zero"
       ]
      },
      {
       "output_type": "stream",
       "stream": "stdout",
       "text": [
        " l2 features: 7494\n",
        "Accuracy @"
       ]
      },
      {
       "output_type": "stream",
       "stream": "stdout",
       "text": [
        " l2 : 0.610946745562\n",
        "\n",
        "[0.29585798816568049, 0.29585798816568049, 0.29437869822485208, 0.35798816568047337, 0.39349112426035504, 0.51923076923076927, 0.5399408284023669, 0.51627218934911245, 0.59171597633136097, 0.58875739644970415, 0.58579881656804733, 0.63313609467455623, 0.63313609467455623, 0.61094674556213013]\n",
        "[13, 17, 121, 213, 366, 1386, 1952, 1965, 4091, 4572, 5281, 5838, 6226, 7494]\n",
        "0.295857988166 @ 13\n",
        "0.295857988166 @ 17\n",
        "0.294378698225 @ 121\n",
        "0.35798816568 @ 213\n",
        "0.39349112426 @ 366\n",
        "0.519230769231 @ 1386\n",
        "0.539940828402 @ 1952\n",
        "0.516272189349 @ 1965\n",
        "0.591715976331 @ 4091\n",
        "0.58875739645 @ 4572\n",
        "0.585798816568 @ 5281\n",
        "0.633136094675 @ 5838\n",
        "0.633136094675 @ 6226\n",
        "0.610946745562 @ 7494\n",
        "len cvals 15\n",
        "len accuracies 14\n"
       ]
      },
      {
       "metadata": {},
       "output_type": "display_data",
       "png": "[encoded data removed]",
       "text": [
        "<matplotlib.figure.Figure at 0x10ee43c90>"
       ]
      },
      {
       "metadata": {},
       "output_type": "display_data",
       "png": "[encoded data removed]",
       "text": [
        "<matplotlib.figure.Figure at 0x10fd81d50>"
       ]
      }
     ],
     "prompt_number": 55
    },
    {
     "cell_type": "markdown",
     "metadata": {},
     "source": [
      "(7) Use the TfidfVectorizer -- how is this different from the CountVectorizer? Train a logistic regression model with C=100.\n",
      "\n",
      "Make predictions on the dev data and show the top 3 documents where the ratio R is largest, where R is:\n",
      "\n",
      "maximum predicted probability / predicted probability of the correct label\n",
      "\n",
      "What kinds of mistakes is the model making? Suggest a way to address one particular issue that you see.\n",
      "\n",
      "[4 pts]"
     ]
    },
    {
     "cell_type": "code",
     "collapsed": false,
     "input": [
      "def P7():\n",
      "    ### STUDENT START ###\n",
      "    \n",
      "    #print \"problem 7\"\n",
      "    logreg = LogisticRegression(C=100)\n",
      "    tfv = TfidfVectorizer()\n",
      "    tfvcount = tfv.fit_transform(train_data)\n",
      "    logreg.fit(tfvcount, train_labels)\n",
      "    count_dev = tfv.transform(dev_data)\n",
      "    predictions = logreg.predict(count_dev)\n",
      "    fscore = metrics.f1_score(dev_labels, predictions)\n",
      "    #print \"F-score:\", fscore\n",
      "    \n",
      "    probs = logreg.predict_proba(count_dev)\n",
      "    R = list()\n",
      "    # Calculate R for each feature\n",
      "    for i,devlabel in enumerate(dev_labels):\n",
      "        r = probs[i][predictions[i]] / probs[i][devlabel]\n",
      "        R.append((r, predictions[i], devlabel, dev_data[i]))\n",
      "        \n",
      "\n",
      "    R.sort(key=lambda x:x[0], reverse = True)\n",
      "    for i in range(3):\n",
      "        print \"Predicted:\",newsgroups_train.target_names[R[i][1]]\n",
      "        print \"Actual:\",newsgroups_train.target_names[R[i][2]]\n",
      "        print \"R: \",R[i][0]\n",
      "        print R[i][3]\n",
      "        print \"\\n\\n<><><><><><><><><><><><><><><><><><><><>\"    \n",
      "### STUDENT END ###\n",
      "P7()"
     ],
     "language": "python",
     "metadata": {},
     "outputs": [
      {
       "output_type": "stream",
       "stream": "stdout",
       "text": [
        "Predicted: comp.graphics\n",
        "Actual: talk.religion.misc\n",
        "R:  929.343050078\n",
        "I am pleased to announce that a *revised version* of _The Easy-to-Read Book\n",
        "of Mormon_ (former title: _Mormon's Book_) by Lynn Matthews Anderson is now\n",
        "available through anonymous ftp (see information below). In addition to the\n",
        "change in title, the revised ETR BOM has been shortened by several pages\n",
        "(eliminating many extraneous \"that's\" and \"of's\"), and many (minor) errors\n",
        "have been corrected. This release includes a simplified Joseph Smith Story,\n",
        "testimonies of the three and eight witnesses, and a \"Words-to-Know\"\n",
        "glossary.\n",
        "\n",
        "As with the previous announcement, readers are reminded that this is a\n",
        "not-for-profit endeavor. This is a copyrighted work, but people are welcome\n",
        "to make *verbatim* copies for personal use. People can recuperate the\n",
        "actual costs of printing (paper, copy center charges), but may not charge\n",
        "anything for their time in making copies, or in any way realize a profit\n",
        "from the use of this book. See the permissions notice in the book itself\n",
        "for the precise terms.\n",
        "\n",
        "Negotiations are currently underway with a Mormon publisher vis-a-vis the\n",
        "printing and distribution of bound books. (Sorry, I'm out of the wire-bound\n",
        "\"first editions.\") I will make another announcement about the availability\n",
        "of printed copies once everything has been worked out.\n",
        "\n",
        "FTP information: connect via anonymous ftp to carnot.itc.cmu.edu, then \"cd\n",
        "pub\" (you won't see anything at all until you do).\n",
        "\n",
        "\"The Easy-to-Read Book of Mormon\" is currently available in postscript and\n",
        "RTF (rich text format). (ASCII, LaTeX, and other versions can be made\n",
        "available; contact dba@andrew.cmu.edu for details.) You should be able to\n",
        "print the postscript file on any postscript printer (such as an Apple\n",
        "Laserwriter); let dba know if you have any difficulties. (The postscript in\n",
        "the last release had problems on some printers; this time it should work\n",
        "better.) RTF is a standard document interchange format that can be read in\n",
        "by a number of word processors, including Microsoft Word for both the\n",
        "Macintosh and Windows. If you don't have a postscript printer, you may be\n",
        "able to use the RTF file to print out a copy of the book.\n",
        "\n",
        "-r--r--r--  1 dba                   1984742 Apr 27 13:12 etrbom.ps\n",
        "-r--r--r--  1 dba                   1209071 Apr 27 13:13 etrbom.rtf\n",
        "\n",
        "For more information about how this project came about, please refer to my\n",
        "article in the current issue of _Sunstone_, entitled \"Delighting in\n",
        "Plainness: Issues Surrounding a Simple Modern English Book of Mormon.\"\n",
        "\n",
        "Send all inquiries and comments to:\n",
        "\n",
        "    Lynn Matthews Anderson\n",
        "    5806 Hampton Street\n",
        "    Pittsburgh, PA 15206\n",
        "\n",
        "\n",
        "<><><><><><><><><><><><><><><><><><><><>\n",
        "Predicted: comp.graphics\n",
        "Actual: talk.religion.misc\n",
        "R:  324.987955544\n",
        "Can anyone provide me a ftp site where I can obtain a online version\n",
        "of the Book of Mormon. Please email the internet address if possible.\n",
        "\n",
        "\n",
        "<><><><><><><><><><><><><><><><><><><><>\n",
        "Predicted: talk.religion.misc\n",
        "Actual: alt.atheism\n",
        "R:  287.179113053\n",
        "\n",
        "The 24 children were, of course, killed by a lone gunman in a second story\n",
        "window, who fired eight bullets in the space of two seconds...\n",
        "\n",
        "\n",
        "\n",
        "<><><><><><><><><><><><><><><><><><><><>\n"
       ]
      },
      {
       "output_type": "stream",
       "stream": "stderr",
       "text": [
        "/Users/denisvrdoljak/Library/Enthought/Canopy_64bit/User/lib/python2.7/site-packages/sklearn/metrics/classification.py:676: DeprecationWarning: The default `weighted` averaging is deprecated, and from version 0.18, use of precision, recall or F-score with multiclass or multilabel data or pos_label=None will result in an exception. Please set an explicit value for `average`, one of (None, 'micro', 'macro', 'weighted', 'samples'). In cross validation use, for instance, scoring=\"f1_weighted\" instead of scoring=\"f1\".\n",
        "  sample_weight=sample_weight)\n"
       ]
      }
     ],
     "prompt_number": 43
    },
    {
     "cell_type": "markdown",
     "metadata": {},
     "source": [
      "ANSWER: TfidfVectorizer weights the frequencies against the number of times they show up in each document (here, each blog post), so it adjusts for infrequent instances that show up every X category. However, it will make mistakes because of this if a certain feature appears exclusively in X category, then appears once in another category of post type. Another example of this would be when \"dear sir or ma'am\" shows up in a non-spam email, and is classified as spam by TfidfVectorizer because it's seen often in a low number of examples, but it's weighted higher. (Assuming people still use dear sir/ma'am in occassional non-spam emails.) In this case, the top mis-classified examples mentions things like FTP and ASCII, which would be seen often in the compu category, but not in the religious categories, so TfidVectorizer cuases skewed weights and leads to incorrect predictions. One way to address this issue would be to filter out features that are weighted by more than a factor of (maybe 10?) over their weights in the regular vectorizer. This would prevent situations where a single word causes a classification, over-shaddowing the weights of the rest of the blog post."
     ]
    },
    {
     "cell_type": "markdown",
     "metadata": {},
     "source": [
      "(8) EXTRA CREDIT\n",
      "\n",
      "Try implementing one of your ideas based on your error analysis. Use logistic regression as your underlying model.\n",
      "\n",
      "- [1 pt] for a reasonable attempt\n",
      "- [2 pts] for improved performance"
     ]
    },
    {
     "cell_type": "code",
     "collapsed": false,
     "input": [
      "def preproc(s):\n",
      "### STUDENT START ###\n",
      "    s = re.sub('\\'', '', s)\n",
      "    s = re.sub(r'\\d+', ' ', s)\n",
      "    s = s.lower()\n",
      "    return s\n",
      "\n",
      "def P_EC():\n",
      "    # Keep this random seed here to make comparison easier.\n",
      "    np.random.seed(0)\n",
      "\n",
      "    ### STUDENT START ###\n",
      "    print \"Attempt to prune vocab using l1, then use tdidf\"\n",
      "    #cvals = map(lambda x: x/10.0, range(1,30))\n",
      "    #cvals.append(range(3,10))\n",
      "    #cvals.append(range(10,100,10))\n",
      "    #different sets of c-values\n",
      "    #cvals = [.000001, .005, .01, .05, .1, .2, 1, 2, 5, 20,30,40,50,60, 100]\n",
      "    #cvals = np.linspace(0.001, 0.25, 50)\n",
      "    #set up lists\n",
      "    cvals = [60]\n",
      "    accuracies = list()\n",
      "    liblengths = list()\n",
      "    nextvocab = list()\n",
      "    \n",
      "    #loop through c values, l1, prune, l2, get accuracy\n",
      "    for c in cvals:\n",
      "        print \"c=\",c\n",
      "        for reglevel in (\"l1\",\"l2\"):\n",
      "            cv = CountVectorizer()\n",
      "            if reglevel == \"l2\":\n",
      "                cv.fit_transform(train_data)\n",
      "                l2vocablength = len(cv.vocabulary_.keys())\n",
      "                print \"Pre-pruned l2 vocab length:\",l2vocablength\n",
      "                cv = CountVectorizer(vocabulary=nextvocab)\n",
      "#            else:\n",
      "#                cv = CountVectorizer()\n",
      "            count = cv.fit_transform(train_data)\n",
      "            #set up classifier\n",
      "            logreg = LogisticRegression(C=c,penalty=reglevel, tol = 0.01)\n",
      "            logreg.fit(count, train_labels)\n",
      "            coeffs = logreg.coef_\n",
      "            #write over old l2 list\n",
      "            nnz = set()\n",
      "            for coef in coeffs:\n",
      "                for i,x in enumerate(coef):\n",
      "                    if x!=0:\n",
      "                        nnz.add(i)\n",
      "            print \"Non-zero\",reglevel,\"features:\",len(nnz)\n",
      "            vocab = [cv.vocabulary_.keys()[i] for i in nnz]\n",
      "            if reglevel=='l1':\n",
      "                nextvocab = vocab\n",
      "            newdevcount = cv.transform(dev_data)\n",
      "            print \"Accuracy @\", reglevel,\":\", logreg.score(newdevcount, dev_labels)\n",
      "            if reglevel == \"l2\":\n",
      "                acc = logreg.score(newdevcount, dev_labels)\n",
      "                accuracies.append(acc)\n",
      "                liblengths.append(len(nextvocab))\n",
      "                \n",
      "            print \"\"\n",
      "    print accuracies\n",
      "    print liblengths\n",
      "    \n",
      "    \n",
      "    print \"Log RegTfid Vectorizer), with pruned vocab, of length:\",len(nextvocab)\n",
      "    print \"Orig score first, then 'improved' score:\"\n",
      "    logreg = LogisticRegression()\n",
      "    tfv = TfidfVectorizer()\n",
      "    tfvcount = tfv.fit_transform(train_data)\n",
      "    logreg.fit(tfvcount, train_labels)\n",
      "    count_dev = tfv.transform(dev_data)\n",
      "    predictions = logreg.predict(count_dev)\n",
      "    fscore = metrics.f1_score(dev_labels, predictions)\n",
      "    print \"Base F-score:\", fscore\n",
      "    #CountVectorizer(preprocessor = preproc)\n",
      "    logreg = LogisticRegression(C=40)\n",
      "    #tfv = TfidfVectorizer(vocabulary = nextvocab)\n",
      "    #tfv = TfidfVectorizer(preprocessor = preproc,vocabulary = nextvocab)\n",
      "    tfv = TfidfVectorizer(preprocessor = preproc)\n",
      "    tfvcount = tfv.fit_transform(train_data)\n",
      "    logreg.fit(tfvcount, train_labels)\n",
      "    count_dev = tfv.transform(dev_data)\n",
      "    predictions = logreg.predict(count_dev)\n",
      "    fscore = metrics.f1_score(dev_labels, predictions)\n",
      "    print \"Improved F-score:\", fscore\n",
      "\n",
      "    \n",
      "\n",
      "\n",
      "\n",
      "    ### STUDENT END ###\n",
      "P_EC()"
     ],
     "language": "python",
     "metadata": {},
     "outputs": [
      {
       "output_type": "stream",
       "stream": "stdout",
       "text": [
        "Attempt to prune vocab using l1, then use tdidf\n",
        "c= 60\n",
        "Non-zero"
       ]
      },
      {
       "output_type": "stream",
       "stream": "stdout",
       "text": [
        " l1 features: 6378\n",
        "Accuracy @"
       ]
      },
      {
       "output_type": "stream",
       "stream": "stdout",
       "text": [
        " l1 : 0.634615384615\n",
        "\n",
        "Pre-pruned l2 vocab length:"
       ]
      },
      {
       "output_type": "stream",
       "stream": "stdout",
       "text": [
        " 26879\n",
        "Non-zero"
       ]
      },
      {
       "output_type": "stream",
       "stream": "stdout",
       "text": [
        " l2 features: 6378\n",
        "Accuracy @"
       ]
      },
      {
       "output_type": "stream",
       "stream": "stdout",
       "text": [
        " l2 : 0.639053254438\n",
        "\n",
        "[0.63905325443786987]\n",
        "[6378]\n",
        "Log RegTfid Vectorizer), with pruned vocab, of length: 6378\n",
        "Orig score first, then 'improved' score:\n",
        "Base F-score:"
       ]
      },
      {
       "output_type": "stream",
       "stream": "stderr",
       "text": [
        "/Users/denisvrdoljak/Library/Enthought/Canopy_64bit/User/lib/python2.7/site-packages/sklearn/metrics/classification.py:676: DeprecationWarning: The default `weighted` averaging is deprecated, and from version 0.18, use of precision, recall or F-score with multiclass or multilabel data or pos_label=None will result in an exception. Please set an explicit value for `average`, one of (None, 'micro', 'macro', 'weighted', 'samples'). In cross validation use, for instance, scoring=\"f1_weighted\" instead of scoring=\"f1\".\n",
        "  sample_weight=sample_weight)\n",
        "/Users/denisvrdoljak/Library/Enthought/Canopy_64bit/User/lib/python2.7/site-packages/sklearn/metrics/classification.py:676: DeprecationWarning: The default `weighted` averaging is deprecated, and from version 0.18, use of precision, recall or F-score with multiclass or multilabel data or pos_label=None will result in an exception. Please set an explicit value for `average`, one of (None, 'micro', 'macro', 'weighted', 'samples'). In cross validation use, for instance, scoring=\"f1_weighted\" instead of scoring=\"f1\".\n",
        "  sample_weight=sample_weight)\n"
       ]
      },
      {
       "output_type": "stream",
       "stream": "stdout",
       "text": [
        " 0.707293937075\n",
        "Improved F-score:"
       ]
      },
      {
       "output_type": "stream",
       "stream": "stdout",
       "text": [
        " 0.748166640336\n"
       ]
      }
     ],
     "prompt_number": 71
    },
    {
     "cell_type": "markdown",
     "metadata": {},
     "source": [
      "Attempted to This method clearly didn't improve the F-score...it actually lowered it, a lot.\n",
      "\n",
      "Next, I tried adding a pre-processor. Better, but still worse than original.\n",
      "\n",
      "Lastly, I tried just a pre-processor, which in this case, actually lowered the score slightly, unlike in the earlier problem.\n",
      "\n",
      "Finally, I used the pivot c-value from problem 6, and a pre-processor.\n",
      "\n",
      "Base F-score: 0.707293937075 \n",
      "Improved F-score: 0.748166640336 "
     ]
    }
   ],
   "metadata": {}
  }
 ]
}