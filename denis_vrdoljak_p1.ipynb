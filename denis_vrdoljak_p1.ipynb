{
 "metadata": {
  "kernelspec": {
   "display_name": "Python 2",
   "language": "python",
   "name": "python2"
  },
  "language_info": {
   "codemirror_mode": {
    "name": "ipython",
    "version": 2
   },
   "file_extension": ".py",
   "mimetype": "text/x-python",
   "name": "python",
   "nbconvert_exporter": "python",
   "pygments_lexer": "ipython2",
   "version": "2.7.6"
  },
  "name": "",
  "signature": "sha256:eaf39364acd8d873216dd63a01d0f23026f73333ec734d0cee667e5862d2ae5a"
 },
 "nbformat": 3,
 "nbformat_minor": 0,
 "worksheets": [
  {
   "cells": [
    {
     "cell_type": "heading",
     "level": 1,
     "metadata": {},
     "source": [
      "Project 1: Digit Classification with KNN and Naive Bayes"
     ]
    },
    {
     "cell_type": "markdown",
     "metadata": {},
     "source": [
      "In this project, you'll implement your own image recognition system for classifying digits. Read through the code and the instructions carefully and add your own code where indicated. Each problem can be addressed succinctly with the included packages -- please don't add any more. Grading will be based on writing clean, commented code, along with a few short answers.\n",
      "\n",
      "As always, you're welcome to work on the project in groups and discuss ideas on the course wall, but <b> please prepare your own write-up (with your own code). </b>\n",
      "\n",
      "If you're interested, check out these links related to digit recognition:\n",
      "\n",
      "Yann Lecun's MNIST benchmarks: http://yann.lecun.com/exdb/mnist/\n",
      "\n",
      "Stanford Streetview research and data: http://ufldl.stanford.edu/housenumbers/"
     ]
    },
    {
     "cell_type": "markdown",
     "metadata": {},
     "source": [
      "(1) Create a 10x10 grid to visualize 10 examples of each digit. Python hints:\n",
      "\n",
      "- plt.rc() for setting the colormap, for example to black and white\n",
      "- plt.subplot() for creating subplots\n",
      "- plt.imshow() for rendering a matrix\n",
      "- np.array.reshape() for reshaping a 1D feature vector into a 2D matrix (for rendering)"
     ]
    },
    {
     "cell_type": "code",
     "collapsed": false,
     "input": [
      "# This tells matplotlib not to try opening a new window for each plot.\n",
      "%matplotlib inline\n",
      "\n",
      "# Import a bunch of libraries.\n",
      "import time\n",
      "import numpy as np\n",
      "import matplotlib.pyplot as plt\n",
      "from matplotlib.ticker import MultipleLocator\n",
      "from sklearn.pipeline import Pipeline\n",
      "from sklearn.datasets import fetch_mldata\n",
      "from sklearn.neighbors import KNeighborsClassifier\n",
      "from sklearn.metrics import confusion_matrix\n",
      "from sklearn.linear_model import LinearRegression\n",
      "from sklearn.naive_bayes import BernoulliNB\n",
      "from sklearn.naive_bayes import MultinomialNB\n",
      "from sklearn.naive_bayes import GaussianNB\n",
      "from sklearn.grid_search import GridSearchCV\n",
      "from sklearn.metrics import classification_report\n",
      "\n",
      "# Set the randomizer seed so results are the same each time.\n",
      "np.random.seed(0)\n",
      "print \"loading complete\""
     ],
     "language": "python",
     "metadata": {},
     "outputs": [
      {
       "output_type": "stream",
       "stream": "stdout",
       "text": [
        "loading complete\n"
       ]
      }
     ],
     "prompt_number": 279
    },
    {
     "cell_type": "markdown",
     "metadata": {},
     "source": [
      "Load the data. Notice that we are splitting the data into training, development, and test. We also have a small subset of the training data called mini_train_data and mini_train_labels that you should use in all the experiments below, unless otherwise noted."
     ]
    },
    {
     "cell_type": "code",
     "collapsed": false,
     "input": [
      "# Load the digit data either from mldata.org, or once downloaded to data_home, from disk. The data is about 53MB so this cell\n",
      "# should take a while the first time your run it.\n",
      "mnist = fetch_mldata('MNIST original', data_home='~/datasets/mnist')\n",
      "X, Y = mnist.data, mnist.target\n",
      "\n",
      "# Rescale grayscale values to [0,1].\n",
      "X = X / 255.0\n",
      "\n",
      "# Shuffle the input: create a random permutation of the integers between 0 and the number of data points and apply this\n",
      "# permutation to X and Y.\n",
      "# NOTE: Each time you run this cell, you'll re-shuffle the data, resulting in a different ordering.\n",
      "shuffle = np.random.permutation(np.arange(X.shape[0]))\n",
      "X, Y = X[shuffle], Y[shuffle]\n",
      "\n",
      "print 'data shape: ', X.shape\n",
      "print 'label shape:', Y.shape\n",
      "\n",
      "# Set some variables to hold test, dev, and training data.\n",
      "test_data, test_labels = X[61000:], Y[61000:]\n",
      "dev_data, dev_labels = X[60000:61000], Y[60000:61000]\n",
      "train_data, train_labels = X[:60000], Y[:60000]\n",
      "mini_train_data, mini_train_labels = X[:1000], Y[:1000]\n",
      "\n",
      "print \"\\n-->\",\"cell complete\"\n",
      "print \"Data: \",type(X[1]), len(X[1]),\" features\"\n"
     ],
     "language": "python",
     "metadata": {},
     "outputs": [
      {
       "output_type": "stream",
       "stream": "stdout",
       "text": [
        "data shape:  (70000, 784)\n",
        "label shape: (70000,)\n",
        "\n",
        "--> cell complete\n",
        "Data:  <type 'numpy.ndarray'> 784  features\n"
       ]
      }
     ],
     "prompt_number": 431
    },
    {
     "cell_type": "code",
     "collapsed": false,
     "input": [
      "def P1(num_examples=10,):\n",
      "### STUDENT START ###\n",
      "\n",
      "    # get list of examples (stored as ist of lists)\n",
      "\n",
      "    examples = []\n",
      "    for j in range(10):\n",
      "        examplelist = []\n",
      "        for i in range(len(Y)):\n",
      "            if Y[i]==j:\n",
      "                examplelist.append(i)\n",
      "                if num_examples == len(examplelist):\n",
      "                    break\n",
      "                    \n",
      "        examples.append(examplelist)\n",
      "\n",
      "        # plot examples\n",
      "    f, plots = plt.subplots(num_examples,10, sharex='col', sharey='row')\n",
      "    \n",
      "    for i, examplelist in enumerate(examples):\n",
      "        #unpack examples, index, and assign to subplots\n",
      "        for j, example in enumerate(examplelist):\n",
      "            plots[j][i].imshow(numpy.reshape(X[example],(28,28)),cmap=\"Greys\")\n",
      "    plt.show()\n",
      "\n",
      "\n",
      "### STUDENT END ###\n",
      "\n",
      "P1(13)\n"
     ],
     "language": "python",
     "metadata": {},
     "outputs": [
      {
       "metadata": {},
       "output_type": "display_data",
       "png": "[encoded data removed]",
       "text": [
        "<matplotlib.figure.Figure at 0x117cbc810>"
       ]
      }
     ],
     "prompt_number": 432
    },
    {
     "cell_type": "markdown",
     "metadata": {},
     "source": [
      "(2) Evaluate a K-Nearest-Neighbors model with k = [1,3,5,7,9] using the mini training set. Report accuracy on the dev set. For k=1, show precision, recall, and F1 for each label. Which is the most difficult digit?\n",
      "\n",
      "- KNeighborsClassifier() for fitting and predicting\n",
      "- classification_report() for producing precision, recall, F1 results"
     ]
    },
    {
     "cell_type": "code",
     "collapsed": false,
     "input": [
      "def P2(k_values):\n",
      "\n",
      "### STUDENT START ###\n",
      "\n",
      "### note: using accuracy calculated manually as\n",
      "### number of matches (number right)/total, not \n",
      "### the .score() method/function\n",
      "\n",
      "    for k in reversed(k_values):\n",
      "        #reversed order, classify, predict, then print accuracy\n",
      "        #print classification report when k=1\n",
      "        \n",
      "        classifier = KNeighborsClassifier(n_neighbors=k).fit(mini_train_data, mini_train_labels)\n",
      "        predicted = classifier.predict(dev_data)\n",
      "        print \"accuracy at k=\",k,\"-> \",\n",
      "        print sum(predicted == dev_labels)*1./len(dev_labels)\n",
      "        \n",
      "        #skip classification report except at k==1\n",
      "        if k!=1:\n",
      "            continue\n",
      "        print \"\\nClassification report @k=1:\"\n",
      "        print classification_report(dev_labels, predicted)\n",
      "        print \"Most difficult digit: #9\"\n",
      "### STUDENT END ###\n",
      "\n",
      "k_values = [1, 3, 5, 7, 9]\n",
      "P2(k_values)"
     ],
     "language": "python",
     "metadata": {},
     "outputs": [
      {
       "output_type": "stream",
       "stream": "stdout",
       "text": [
        "accuracy at k= 9 ->  0.863\n",
        "accuracy at k="
       ]
      },
      {
       "output_type": "stream",
       "stream": "stdout",
       "text": [
        " 7 ->  0.865\n",
        "accuracy at k="
       ]
      },
      {
       "output_type": "stream",
       "stream": "stdout",
       "text": [
        " 5 ->  0.869\n",
        "accuracy at k="
       ]
      },
      {
       "output_type": "stream",
       "stream": "stdout",
       "text": [
        " 3 ->  0.878\n",
        "accuracy at k="
       ]
      },
      {
       "output_type": "stream",
       "stream": "stdout",
       "text": [
        " 1 ->  0.888\n",
        "\n",
        "Classification report @k=1:\n",
        "             precision    recall  f1-score   support\n",
        "\n",
        "        0.0       0.91      0.98      0.94        99\n",
        "        1.0       0.89      1.00      0.94       105\n",
        "        2.0       0.99      0.79      0.88       102\n",
        "        3.0       0.77      0.87      0.82        86\n",
        "        4.0       0.89      0.82      0.85       104\n",
        "        5.0       0.93      0.84      0.88        91\n",
        "        6.0       0.94      0.96      0.95        98\n",
        "        7.0       0.89      0.92      0.90       113\n",
        "        8.0       0.94      0.88      0.91        96\n",
        "        9.0       0.78      0.82      0.80       106\n",
        "\n",
        "avg / total       0.89      0.89      0.89      1000\n",
        "\n",
        "Most difficult digit: #9\n"
       ]
      }
     ],
     "prompt_number": 282
    },
    {
     "cell_type": "markdown",
     "metadata": {},
     "source": [
      "ANSWER:Most difficult digit: #9"
     ]
    },
    {
     "cell_type": "markdown",
     "metadata": {},
     "source": [
      "(3) Using k=1, report dev set accuracy for the training set sizes below. Also, measure the amount of time needed for prediction with each training size.\n",
      "\n",
      "- time.time() gives a wall clock value you can use for timing operations"
     ]
    },
    {
     "cell_type": "code",
     "collapsed": false,
     "input": [
      "def P3(train_sizes, accuracies):\n",
      "\n",
      "### STUDENT START ###\n",
      "    print \"Size\\t\\tAccuracy\\t\\tTime (ms)\"\n",
      "    for size in train_sizes:\n",
      "        print size,\"\\t\\t\",\n",
      "        start = time.time()\n",
      "        classifier = KNeighborsClassifier(n_neighbors=1).fit(mini_train_data[:size], mini_train_labels[:size])\n",
      "        predicted = classifier.predict(dev_data)\n",
      "        accuracy = sum(predicted == dev_labels)*1./len(dev_labels)\n",
      "        print accuracy,\"\\t\\t\",\n",
      "        print \"\\t\\t\",(time.time() - start)*1000\n",
      "        accuracies.append(accuracy)\n",
      "\n",
      "        \n",
      "\n",
      "### STUDENT END ###\n",
      "\n",
      "train_sizes = [100, 200, 400, 800, 1600, 3200, 6400, 12800, 25000]\n",
      "accuracies = []\n",
      "P3(train_sizes, accuracies)"
     ],
     "language": "python",
     "metadata": {},
     "outputs": [
      {
       "output_type": "stream",
       "stream": "stdout",
       "text": [
        "Size\t\tAccuracy\t\tTime (ms)\n",
        "100 \t\t0.72"
       ]
      },
      {
       "output_type": "stream",
       "stream": "stdout",
       "text": [
        " \t\t\t\t134.346008301\n",
        "200 \t\t0.786"
       ]
      },
      {
       "output_type": "stream",
       "stream": "stdout",
       "text": [
        " \t\t\t\t253.718137741\n",
        "400 \t\t0.841"
       ]
      },
      {
       "output_type": "stream",
       "stream": "stdout",
       "text": [
        " \t\t\t\t502.424001694\n",
        "800 \t\t0.884"
       ]
      },
      {
       "output_type": "stream",
       "stream": "stdout",
       "text": [
        " \t\t\t\t1059.6408844\n",
        "1600 \t\t0.888"
       ]
      },
      {
       "output_type": "stream",
       "stream": "stdout",
       "text": [
        " \t\t\t\t1440.96302986\n",
        "3200 \t\t0.888"
       ]
      },
      {
       "output_type": "stream",
       "stream": "stdout",
       "text": [
        " \t\t\t\t1496.48094177\n",
        "6400 \t\t0.888"
       ]
      },
      {
       "output_type": "stream",
       "stream": "stdout",
       "text": [
        " \t\t\t\t1432.76596069\n",
        "12800 \t\t0.888"
       ]
      },
      {
       "output_type": "stream",
       "stream": "stdout",
       "text": [
        " \t\t\t\t1451.31611824\n",
        "25000 \t\t0.888"
       ]
      },
      {
       "output_type": "stream",
       "stream": "stdout",
       "text": [
        " \t\t\t\t1538.32507133\n"
       ]
      }
     ],
     "prompt_number": 314
    },
    {
     "cell_type": "markdown",
     "metadata": {},
     "source": [
      "(4) Fit a regression model that predicts accuracy from training size. What does it predict for n=60000? What's wrong with using regression here? Can you apply a transformation that makes the predictions more reasonable?\n",
      "\n",
      "- Remember that the sklearn fit() functions take an input matrix X and output vector Y. So each input example in X is a vector, even if it contains only a single value."
     ]
    },
    {
     "cell_type": "code",
     "collapsed": false,
     "input": [
      "def P4():\n",
      "\n",
      "### STUDENT START ###\n",
      "    lm = LinearRegression()\n",
      "    \n",
      "    sizes = np.array(train_sizes)\n",
      "    acc = np.array(accuracies)\n",
      "    sizes = np.array(train_sizes)\n",
      "    #change type for fit() args\n",
      "    lm.fit( sizes.reshape((9,1)), acc)\n",
      "    print \"Predicted (linear regression) at 60000: \",lm.predict(60000)[0]\n",
      "    \n",
      "    print \"----Modifying with sqrt transformation----\"\n",
      "    train_sizes2 = list(map(sqrt, train_sizes))\n",
      "    #apply sqrt to list\n",
      "    sizes2 = np.array(train_sizes2)\n",
      "    lm.fit( sizes2.reshape((9,1)), acc)\n",
      "    #re-train\n",
      "    print \"New, Predicted  at 60000: \",lm.predict(sqrt(60000))[0]\n",
      "\n",
      "### STUDENT END ###\n",
      "\n",
      "P4()"
     ],
     "language": "python",
     "metadata": {},
     "outputs": [
      {
       "output_type": "stream",
       "stream": "stdout",
       "text": [
        "Predicted (linear regression) at 60000:  1.02149153904\n",
        "----Modifying with sqrt transformation----\n",
        "New, Predicted  at 60000:  0.984074393059\n"
       ]
      }
     ],
     "prompt_number": 345
    },
    {
     "cell_type": "markdown",
     "metadata": {},
     "source": [
      "ANSWER: 0.984074393059, or 98.4%"
     ]
    },
    {
     "cell_type": "markdown",
     "metadata": {},
     "source": [
      "Fit a 1-NN and output a confusion matrix for the dev data. Use the confusion matrix to identify the most confused pair of digits, and display a few example mistakes.\n",
      "\n",
      "- confusion_matrix() produces a confusion matrix"
     ]
    },
    {
     "cell_type": "code",
     "collapsed": false,
     "input": [
      "def P5():\n",
      "\n",
      "### STUDENT START ###\n",
      "    classifier = KNeighborsClassifier(n_neighbors=1).fit(mini_train_data, mini_train_labels)\n",
      "    predicted = classifier.predict(dev_data)\n",
      "    print confusion_matrix(dev_labels,predicted)\n",
      "\n",
      "    #get list of misclassified\n",
      "    x=[i for i in range(len(dev_labels)) if (dev_labels[i]==4) and (predicted[i]==9)]\n",
      "    \n",
      "    #plot examples\n",
      "    f, plots = plt.subplots(3,3, sharex='col', sharey='row')\n",
      "    for i, plotrow in enumerate(plots):\n",
      "        for j, subplot in enumerate(plotrow):\n",
      "            plots[j][i].imshow(numpy.reshape(dev_data[x[i+3*j]],(28,28)),cmap=\"Greys\")\n",
      "    plt.show()\n",
      "\n",
      "\n",
      "\n",
      "P5()"
     ],
     "language": "python",
     "metadata": {},
     "outputs": [
      {
       "output_type": "stream",
       "stream": "stdout",
       "text": [
        "[[ 88   0   1   0   0   1   1   0   0   0]\n",
        " [  0 131   1   1   0   0   0   0   0   0]\n",
        " [  1   2 101   2   0   1   0   2   2   0]\n",
        " [  1   1   1  88   0   3   1   0   2   1]\n",
        " [  0   1   0   0  93   0   0   1   0  12]\n",
        " [  2   2   1   7   0  59   1   0   1   5]\n",
        " [  2   2   0   0   1   1  94   0   1   0]\n",
        " [  1   2   0   0   1   0   0  90   0   4]\n",
        " [  0   4   1   3   2   5   3   0  77   2]\n",
        " [  0   1   1   2   4   1   0   6   0  71]]\n"
       ]
      },
      {
       "metadata": {},
       "output_type": "display_data",
       "png": "[encoded data removed]",
       "text": [
        "<matplotlib.figure.Figure at 0x118245e90>"
       ]
      }
     ],
     "prompt_number": 467
    },
    {
     "cell_type": "code",
     "collapsed": false,
     "input": [],
     "language": "python",
     "metadata": {},
     "outputs": []
    },
    {
     "cell_type": "markdown",
     "metadata": {},
     "source": [
      "(6) A common image processing technique is to smooth an image by blurring. The idea is that the value of a particular pixel is estimated as the weighted combination of the original value and the values around it. Typically, the blurring is Gaussian -- that is, the weight of a pixel's influence is determined by a Gaussian function over the distance to the relevant pixel.\n",
      "\n",
      "Implement a simplified Gaussian blur by just using the 8 neighboring pixels: the smoothed value of a pixel is a weighted combination of the original value and the 8 neighboring values. Try applying your blur filter in 3 ways:\n",
      "- preprocess the training data but not the dev data\n",
      "- preprocess the dev data but not the training data\n",
      "- preprocess both training and dev data\n",
      "\n",
      "Note that there are Guassian blur filters available, for example in scipy.ndimage.filters. You're welcome to experiment with those, but you are likely to get the best results with the simplified version I described above."
     ]
    },
    {
     "cell_type": "code",
     "collapsed": false,
     "input": [
      "def blur_one(img):\n",
      "    def append_point(point):\n",
      "        \"\"\" Deal with out of bounds points \"\"\"\n",
      "        if -1 in point: return\n",
      "        try:\n",
      "            points.append(img[point[0]][point[1]])\n",
      "        except:\n",
      "            pass\n",
      "        \n",
      "    img = img.reshape(28, 28)\n",
      "    blurred_img = np.ndarray(shape=(784))\n",
      "    for i in range(28):\n",
      "        for j in range(28):\n",
      "            points = [img[i][j]]            \n",
      "            append_point((i+1, j  ))\n",
      "            append_point((i-1, j  ))\n",
      "            append_point((i,   j+1))\n",
      "            append_point((i,   j-1))\n",
      "            append_point((i+1, j+1))\n",
      "            append_point((i-1, j-1))\n",
      "            append_point((i+1, j-1))\n",
      "            append_point((i-1, j+1))\n",
      "            blurred_img[28*i+j] = sum(points)/len(points)\n",
      "\n",
      "    return blurred_img\n",
      "\n",
      "#cite: blurring function from w207 summer '15 class\n",
      "def P6():\n",
      "    \n",
      "### STUDENT START ###\n",
      "    \n",
      "    # create blurred data sets\n",
      "\n",
      "    blurred_train_data = []\n",
      "    for pic in mini_train_data:\n",
      "        blurred_train_data.append(blur_one(pic))\n",
      "    blurred_dev_data = []\n",
      "    for pic in dev_data:\n",
      "        blurred_dev_data.append(blur_one(pic))\n",
      "    \n",
      "    # test combinations of blurred/un-blurred\n",
      "    test_order = [\"No Blur\",\n",
      "                  \"Blurred Training Daya\",\n",
      "                  \"Blurred Test/Dev Data\",\n",
      "                  \"Both Data Sets Blurred\"]\n",
      "    testnum=0\n",
      "    for devdata in (dev_data,blurred_dev_data):\n",
      "        for traindata in (mini_train_data,blurred_train_data):\n",
      "            classifier = KNeighborsClassifier(n_neighbors=1).fit(traindata, mini_train_labels)\n",
      "            predicted = classifier.predict(devdata)\n",
      "            accuracy = sum(predicted == dev_labels)*1./len(dev_labels)\n",
      "            print accuracy, \" accuracy in test with\", test_order[testnum]\n",
      "            testnum+=1\n",
      "        \n",
      "\n",
      "        ### STUDENT END ###\n",
      "\n",
      "P6()"
     ],
     "language": "python",
     "metadata": {},
     "outputs": [
      {
       "output_type": "stream",
       "stream": "stdout",
       "text": [
        "0.888  accuracy in test with No Blur\n",
        "0.908"
       ]
      },
      {
       "output_type": "stream",
       "stream": "stdout",
       "text": [
        "  accuracy in test with Blurred Training Daya\n",
        "0.871"
       ]
      },
      {
       "output_type": "stream",
       "stream": "stdout",
       "text": [
        "  accuracy in test with Blurred Test/Dev Data\n",
        "0.902"
       ]
      },
      {
       "output_type": "stream",
       "stream": "stdout",
       "text": [
        "  accuracy in test with Both Data Sets Blurred\n"
       ]
      }
     ],
     "prompt_number": 409
    },
    {
     "cell_type": "markdown",
     "metadata": {},
     "source": [
      "ANSWER: 0.888  - No Blur\n",
      "        0.908  - Blurred Training Daya\n",
      "        0.871  - Blurred Test/Dev Data\n",
      "        0.902  - Both Blurred"
     ]
    },
    {
     "cell_type": "markdown",
     "metadata": {},
     "source": [
      "(7) Fit a Naive Bayes classifier and report accuracy on the dev data. Remember that Naive Bayes estimates P(feature|label). While sklearn can handle real-valued features, let's start by mapping the pixel values to either 0 or 1. You can do this as a preprocessing step, or with the binarize argument. With binary-valued features, you can use BernoulliNB. Next try mapping the pixel values to 0, 1, or 2, representing white, grey, or black. This mapping requires MultinomialNB. Does the multi-class version improve the results? Why or why not?"
     ]
    },
    {
     "cell_type": "code",
     "collapsed": false,
     "input": [
      "def P7():\n",
      "\n",
      "### STUDENT START ###\n",
      "    \n",
      "    # create binary data\n",
      "    binary_mini_train_data = []\n",
      "    for pic in mini_train_data:\n",
      "        binary_mini_train_data.append(pic//.5)\n",
      "    \n",
      "    binary_dev_data = []\n",
      "    for pic in dev_data:\n",
      "        binary_dev_data.append(pic//.5)\n",
      "    \n",
      "    # run NB\n",
      "    classifier = BernoulliNB()\n",
      "    classifier.fit(binary_mini_train_data, mini_train_labels)\n",
      "    predicted = classifier.predict(binary_dev_data)\n",
      "    accuracy = sum(predicted == dev_labels)*1./len(dev_labels)\n",
      "    print accuracy, \" accuracy in binary\"\n",
      "    \n",
      "    #create 0,1,2 data\n",
      "    tri_mini_train_data = []\n",
      "    for pic in mini_train_data:\n",
      "        tri_mini_train_data.append(pic//.333)\n",
      "    \n",
      "    tri_dev_data = []\n",
      "    for pic in dev_data:\n",
      "        tri_dev_data.append(pic//.333)\n",
      "    \n",
      "    # run NB\n",
      "    classifier = MultinomialNB()\n",
      "    classifier.fit(tri_mini_train_data, mini_train_labels)\n",
      "    predicted = classifier.predict(tri_dev_data)\n",
      "    accuracy = sum(predicted == dev_labels)*1./len(dev_labels)\n",
      "    print accuracy, \" accuracy in 3D\"\n",
      "\n",
      "\n",
      "    \n",
      "### STUDENT END ###\n",
      "\n",
      "P7()"
     ],
     "language": "python",
     "metadata": {},
     "outputs": [
      {
       "output_type": "stream",
       "stream": "stdout",
       "text": [
        "0.815  accuracy in binary\n",
        "0.801  accuracy in 3D\n"
       ]
      }
     ],
     "prompt_number": 419
    },
    {
     "cell_type": "markdown",
     "metadata": {},
     "source": [
      "ANSWER: 0.815  accuracy in binary\n",
      "0.801  accuracy in 3D\n",
      "Accuracy went down. The data is hand-writing. There is no gray, just ink vs. no ink. Splitting it into B/W/gray just cuts out some signal."
     ]
    },
    {
     "cell_type": "markdown",
     "metadata": {},
     "source": [
      "(8) Use GridSearchCV to perform a search over values of alpha (the Laplace smoothing parameter) in a Bernoulli NB model. What is the best value for alpha? What is the accuracy when alpha=0? Is this what you'd expect?\n",
      "\n",
      "- Note that GridSearchCV partitions the training data so the results will be a bit different than if you used the dev data for evaluation."
     ]
    },
    {
     "cell_type": "code",
     "collapsed": false,
     "input": [
      "def P8(alphas):\n",
      "\n",
      "### STUDENT START ###\n",
      "    binary_dev_data = []\n",
      "    for pic in dev_data:\n",
      "        binary_dev_data.append(pic//.5)\n",
      "        \n",
      "    gs = GridSearchCV(BernoulliNB(), alphas)\n",
      "    gs.fit(binary_dev_data, dev_labels)\n",
      "    print \"Best alpha:\",gs.best_params_\n",
      "    for score in gs.grid_scores_:\n",
      "        print score\n",
      "    return gs\n",
      "\n",
      "\n",
      "### STUDENT END ###\n",
      "\n",
      "alphas = {'alpha': [0.0, 0.0001, 0.001, 0.01, 0.1, 0.5, 1.0, 2.0, 10.0]}\n",
      "nb = P8(alphas)"
     ],
     "language": "python",
     "metadata": {},
     "outputs": [
      {
       "output_type": "stream",
       "stream": "stdout",
       "text": [
        "Best alpha: {'alpha': 0.001}\n",
        "mean: 0.09900, std: 0.00074, params: {'alpha': 0.0}\n",
        "mean: 0.83200, std: 0.01913, params: {'alpha': 0.0001}\n",
        "mean: 0.83300, std: 0.02432, params: {'alpha': 0.001}\n",
        "mean: 0.82600, std: 0.02171, params: {'alpha': 0.01}\n",
        "mean: 0.82300, std: 0.01754, params: {'alpha': 0.1}\n",
        "mean: 0.81500, std: 0.01442, params: {'alpha': 0.5}\n",
        "mean: 0.81100, std: 0.01307, params: {'alpha': 1.0}\n",
        "mean: 0.80200, std: 0.01302, params: {'alpha': 2.0}\n",
        "mean: 0.74600, std: 0.02509, params: {'alpha': 10.0}\n"
       ]
      }
     ],
     "prompt_number": 428
    },
    {
     "cell_type": "code",
     "collapsed": false,
     "input": [
      "print nb.best_params_"
     ],
     "language": "python",
     "metadata": {},
     "outputs": [
      {
       "output_type": "stream",
       "stream": "stdout",
       "text": [
        "{'alpha': 0.001}\n"
       ]
      }
     ],
     "prompt_number": 429
    },
    {
     "cell_type": "markdown",
     "metadata": {},
     "source": [
      "ANSWER:{'alpha': 0.001}, alpha A 0: 0.099"
     ]
    },
    {
     "cell_type": "markdown",
     "metadata": {},
     "source": [
      "(9) Try training a model using GuassianNB, which is intended for real-valued features, and evaluate on the dev data. You'll notice that it doesn't work so well. Try to diagnose the problem. You should be able to find a simple fix that returns the accuracy to around the same rate as BernoulliNB. Explain your solution.\n",
      "\n",
      "Hint: examine the parameters estimated by the fit() method, theta\\_ and sigma\\_."
     ]
    },
    {
     "cell_type": "code",
     "collapsed": false,
     "input": [
      "def P9():\n",
      "\n",
      "### STUDENT START ###\n",
      "    classifier = GaussianNB()\n",
      "    classifier.fit(mini_train_data, mini_train_labels)\n",
      "    predicted = classifier.predict(dev_data)\n",
      "    accuracy = sum(predicted == dev_labels)*1./len(dev_labels)\n",
      "    print \"Accuracy, initial: \",accuracy\n",
      "    \n",
      "    #print classifier.sigma_\n",
      "    \n",
      "    #new/sigma-adjusted/theta-adjusted classifier\n",
      "    classifier.sigma_ +=.02\n",
      "    classifier.theta_-=.02\n",
      "    \n",
      "    predicted = classifier.predict(dev_data)\n",
      "    accuracy = sum(predicted == dev_labels)*1./len(dev_labels)\n",
      "    print \"Accuracy, adjusted sigma and theta : \",accuracy\n",
      "    \n",
      "    return accuracy\n",
      "\n",
      "### STUDENT END ###\n",
      "\n",
      "gnb = P9()"
     ],
     "language": "python",
     "metadata": {},
     "outputs": [
      {
       "output_type": "stream",
       "stream": "stdout",
       "text": [
        "Accuracy, initial:  0.666\n",
        "Accuracy, adjusted sigma and theta : "
       ]
      },
      {
       "output_type": "stream",
       "stream": "stdout",
       "text": [
        " 0.824\n"
       ]
      }
     ],
     "prompt_number": 515
    },
    {
     "cell_type": "markdown",
     "metadata": {},
     "source": [
      "ANSWER: Accuracy, initial:  0.666\n",
      "Accuracy, adjusted sigme:  0.824, after sigma+=.02"
     ]
    },
    {
     "cell_type": "markdown",
     "metadata": {},
     "source": [
      "(10) Because Naive Bayes is a generative model, we can use the trained model to generate digits. Train a BernoulliNB model and then generate a 10x20 grid with 20 examples of each digit. Because you're using a Bernoulli model, each pixel output will be either 0 or 1. How do the generated digits compare to the training digits?\n",
      "\n",
      "- You can use np.random.rand() to generate random numbers from a uniform distribution\n",
      "- The estimated probability of each pixel is stored in feature\\_log\\_prob\\_. You'll need to use np.exp() to convert a log probability back to a probability."
     ]
    },
    {
     "cell_type": "code",
     "collapsed": false,
     "input": [
      "def P10(num_examples):\n",
      "\n",
      "### STUDENT START ###\n",
      "    # create binary data\n",
      "    binary_mini_train_data = []\n",
      "    for pic in mini_train_data:\n",
      "        binary_mini_train_data.append(pic//.5)\n",
      "    \n",
      "    binary_dev_data = []\n",
      "    for pic in dev_data:\n",
      "        binary_dev_data.append(pic//.5)\n",
      "\n",
      "    classifier = BernoulliNB()\n",
      "    classifier.fit(binary_mini_train_data, mini_train_labels)\n",
      "    predicted = classifier.predict(binary_dev_data)\n",
      "    accuracy = sum(predicted == dev_labels)*1./len(dev_labels)\n",
      "    print accuracy, \" accuracy in binary\"\n",
      "    print len(classifier.feature_log_prob_[1]), \"features\"\n",
      "    regen_weights = np.exp(classifier.feature_log_prob_)\n",
      "    \n",
      "    # generate pics\n",
      "    samples = []\n",
      "    for i in range(num_examples):\n",
      "        ##\n",
      "        generated_numbers = []\n",
      "        for number in range(10):\n",
      "\n",
      "            genpic = []\n",
      "            for feature in regen_weights[number]:\n",
      "                genpic.append(sqrt(feature*np.random.rand(1,1))//.5)\n",
      "            generated_numbers.append(genpic)\n",
      "        samples.append(generated_numbers)\n",
      "    \n",
      "    # plot pics\n",
      "    f, plots = plt.subplots(len(samples),len(samples[0]), sharex='col', sharey='row')\n",
      "    for i, plotrow in enumerate(plots):\n",
      "        for j, subplot in enumerate(plotrow):\n",
      "            plots[i][j].imshow(numpy.reshape(samples[i][j],(28,28)),cmap=\"Greys\")\n",
      "    plt.show()\n",
      "\n",
      "    \n",
      "    \n",
      "\n",
      "### STUDENT END ###\n",
      "\n",
      "P10(20)\n",
      "P10(3)"
     ],
     "language": "python",
     "metadata": {},
     "outputs": [
      {
       "output_type": "stream",
       "stream": "stdout",
       "text": [
        "0.815  accuracy in binary\n",
        "784 features\n"
       ]
      },
      {
       "metadata": {},
       "output_type": "display_data",
       "png": "[encoded data removed]",
       "text": [
        "<matplotlib.figure.Figure at 0x1af5c3650>"
       ]
      },
      {
       "output_type": "stream",
       "stream": "stdout",
       "text": [
        "0.815  accuracy in binary\n",
        "784 features\n"
       ]
      },
      {
       "metadata": {},
       "output_type": "display_data",
       "png": "[encoded data removed]",
       "text": [
        "<matplotlib.figure.Figure at 0x11b9f79d0>"
       ]
      }
     ],
     "prompt_number": 514
    },
    {
     "cell_type": "markdown",
     "metadata": {},
     "source": [
      "ANSWER: 10x20 is too many examples for this screen, but zoomed in (or in the second chart only with 3 examples), the images are very pixelated, with random dots, like a staticy TV channel, which makes sense since a TV with static/noise is having its signal go through an analog version of regenerating the picture (here probabilities, which are already \"staticy\") with added noise/static (here, the np.rand factor)."
     ]
    },
    {
     "cell_type": "markdown",
     "metadata": {},
     "source": [
      "(11) Remember that a strongly calibrated classifier is rougly 90% accurate when the posterior probability of the predicted class is 0.9. A weakly calibrated classifier is more accurate when the posterior is 90% than when it is 80%. A poorly calibrated classifier has no positive correlation between posterior and accuracy.\n",
      "\n",
      "Train a BernoulliNB model with a reasonable alpha value. For each posterior bucket (think of a bin in a histogram), you want to estimate the classifier's accuracy. So for each prediction, find the bucket the maximum posterior belongs to and update the \"correct\" and \"total\" counters.\n",
      "\n",
      "How would you characterize the calibration for the Naive Bayes model?"
     ]
    },
    {
     "cell_type": "code",
     "collapsed": false,
     "input": [
      "def P11(buckets, correct, total):\n",
      "    \n",
      "### STUDENT START ###\n",
      "\n",
      "        # create binary data\n",
      "    binary_mini_train_data = []\n",
      "    for pic in mini_train_data:\n",
      "        binary_mini_train_data.append(pic//.5)\n",
      "    \n",
      "    binary_dev_data = []\n",
      "    for pic in dev_data:\n",
      "        binary_dev_data.append(pic//.5)\n",
      "\n",
      "        # create classifier\n",
      "    classifier = BernoulliNB()\n",
      "    classifier.fit(binary_mini_train_data, mini_train_labels)\n",
      "    predicted = classifier.predict(binary_dev_data)\n",
      "    accuracy = sum(predicted == dev_labels)*1./len(dev_labels)\n",
      "    print accuracy, \" accuracy in binary\"\n",
      "    \n",
      "    #get probability bin data\n",
      "    probs = classifier.predict_proba(binary_dev_data)\n",
      "    for j,p in enumerate(probs):\n",
      "        maxp = max(p)\n",
      "        for i,bucket in enumerate(buckets):\n",
      "            if maxp <= bucket:\n",
      "                #print maxp,\"<=\",bucket\n",
      "                total[i] +=1\n",
      "                if predicted[j]==dev_labels[j]:\n",
      "                    #print predicted[j],dev_labels[j]\n",
      "                    correct[i] +=1.\n",
      "                break\n",
      "### STUDENT END ###\n",
      "\n",
      "buckets = [0.5, 0.9, 0.999, 0.99999, 0.9999999, 0.999999999, 0.99999999999, 0.9999999999999, 1.0]\n",
      "correct = [0 for i in buckets]\n",
      "total = [0 for i in buckets]\n",
      "P11(buckets, correct, total)\n",
      "#print total\n",
      "#print correct\n",
      "\n",
      "for i in range(len(buckets)):\n",
      "    accuracy = 0.\n",
      "    if (total[i] > 0): accuracy = correct[i]/ total[i]\n",
      "    print 'p(pred) <= %.13f    total = %3d    accuracy = %.3f' %(buckets[i], total[i], accuracy)"
     ],
     "language": "python",
     "metadata": {},
     "outputs": [
      {
       "output_type": "stream",
       "stream": "stdout",
       "text": [
        "0.815  accuracy in binary\n",
        "p(pred) <= 0.5000000000000    total =   0    accuracy = 0.000\n",
        "p(pred) <= 0.9000000000000    total =  44    accuracy = 0.364\n",
        "p(pred) <= 0.9990000000000    total =  88    accuracy = 0.443\n",
        "p(pred) <= 0.9999900000000    total =  87    accuracy = 0.563\n",
        "p(pred) <= 0.9999999000000    total =  71    accuracy = 0.704\n",
        "p(pred) <= 0.9999999990000    total =  72    accuracy = 0.764\n",
        "p(pred) <= 0.9999999999900    total =  75    accuracy = 0.907\n",
        "p(pred) <= 0.9999999999999    total =  68    accuracy = 0.824\n",
        "p(pred) <= 1.0000000000000    total = 495    accuracy = 0.974\n"
       ]
      }
     ],
     "prompt_number": 738
    },
    {
     "cell_type": "markdown",
     "metadata": {},
     "source": [
      "ANSWER: weakly calibrated, total!accuracy is not linear"
     ]
    },
    {
     "cell_type": "markdown",
     "metadata": {},
     "source": [
      "(12) EXTRA CREDIT\n",
      "\n",
      "Try designing extra features to see if you can improve the performance of Naive Bayes on the dev set. Here are a few ideas to get you started:\n",
      "- Try summing the pixel values in each row and each column.\n",
      "- Try counting the number of enclosed regions; 8 usually has 2 enclosed regions, 9 usually has 1, and 7 usually has 0.\n",
      "\n",
      "Make sure you comment your code well!"
     ]
    },
    {
     "cell_type": "code",
     "collapsed": false,
     "input": [
      "def P12():\n",
      "### STUDENT START ###\n",
      "    # create binary data\n",
      "    binary_mini_train_data = []\n",
      "    for pic in mini_train_data:\n",
      "        binary_mini_train_data.append(pic//.5)\n",
      "    \n",
      "    binary_dev_data = []\n",
      "    for pic in dev_data:\n",
      "        binary_dev_data.append(pic//.5)\n",
      "\n",
      "    # create classifier, calculate initial accuracy\n",
      "    classifier = BernoulliNB()\n",
      "    classifier.fit(binary_mini_train_data, mini_train_labels)\n",
      "    predicted = classifier.predict(binary_dev_data)\n",
      "    accuracy = sum(predicted == dev_labels)*1./len(dev_labels)\n",
      "    print accuracy, \" accuracy in binary\"\n",
      "\n",
      "    # calculate accuracy of individual pixels\n",
      "    #penalty when wrong = half of points when right\n",
      "    \n",
      "    #init empty matrix\n",
      "    pixel_accuracy = binary_mini_train_data[1]*0\n",
      "    \n",
      "    #score data points (pixels)\n",
      "    for j,pic in enumerate(binary_dev_data):\n",
      "        for i,pixel in enumerate(pic):\n",
      "            if (pixel>0):\n",
      "                if(dev_labels[j]==predicted[j]):\n",
      "                    pixel_accuracy[i]+=2\n",
      "                else:\n",
      "                    pixel_accuracy[i]-=1\n",
      "\n",
      "    #normalize, set cut-off level (cut lowers 25%)\n",
      "    pixel_accuracy-= min(pixel_accuracy)\n",
      "    theshold_weight = max(list(pixel_accuracy))/4\n",
      "    pixel_accuracy-=theshold_weight\n",
      "    \n",
      "    #apply cut-off/threshold\n",
      "    for n,pixel in enumerate(pixel_accuracy):\n",
      "        if pixel>0:\n",
      "            pixel_accuracy[n]=1\n",
      "        if pixel<0:\n",
      "            pixel_accuracy[n]=0\n",
      "    \n",
      "\n",
      "    #create data set with \n",
      "    #filter applied to low accuracy pixels\n",
      "    filtered_data=[]\n",
      "    for pic in binary_mini_train_data:\n",
      "        filtered_data.append(pic*pixel_accuracy)\n",
      "     \n",
      "        #evaluate new model\n",
      "    classifier.fit(filtered_data, mini_train_labels)\n",
      "    predicted = classifier.predict(binary_dev_data)\n",
      "    accuracy = sum(predicted == dev_labels)*1./len(dev_labels)\n",
      "    print accuracy, \" new accuracy - with low accuracy pixels removed\"\n",
      "\n",
      "### STUDENT END ###\n",
      "\n",
      "P12()"
     ],
     "language": "python",
     "metadata": {},
     "outputs": [
      {
       "output_type": "stream",
       "stream": "stdout",
       "text": [
        "0.815  accuracy in binary\n",
        "0.816"
       ]
      },
      {
       "output_type": "stream",
       "stream": "stdout",
       "text": [
        "  new accuracy - with low accuracy pixels removed\n"
       ]
      }
     ],
     "prompt_number": 641
    },
    {
     "cell_type": "code",
     "collapsed": false,
     "input": [],
     "language": "python",
     "metadata": {},
     "outputs": []
    }
   ],
   "metadata": {}
  }
 ]
}